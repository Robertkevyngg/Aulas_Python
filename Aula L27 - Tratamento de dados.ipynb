{
  "cells": [
    {
      "cell_type": "markdown",
      "metadata": {
        "id": "R_dY0VIKjLz-"
      },
      "source": [
        "#**TTI103 - Lógica de Programação**\n",
        "\n",
        "#**Aula L27 - Tratamento de dados**"
      ]
    },
    {
      "cell_type": "markdown",
      "metadata": {
        "id": "haAzGEDqjZjM"
      },
      "source": [
        "# Furacões na América do Norte e Central\n",
        "\n",
        "As listas a seguir contêm dados sobre furacões que assolaram as Américas do Norte e Central. Elas incluem:\n",
        "\n",
        "* os nomes dos furacões;\n",
        "* mês e ano de ocorrência;\n",
        "* velocidade máxima do vento;\n",
        "* as áreas afetadas;\n",
        "* o prejuízo material causado;\n",
        "* a perda de vidas humanas.\n",
        "\n",
        "Um ponto importante a ser notado é a organização dos dados: em cada uma das listas existem 34 elementos indexados de 0 a 33. A cada índice de cada lista está associada a informação de um mesmo furacão.\n",
        "\n",
        "Por exemplo, `nomes[0]` representa o furacão `“Cuba I”`, que ocorreu no mês `'October'` (`meses[0]`) de 1924 (`anos[0]`). A máxima velocidade registrada dos ventos foi de `165` mph (`max_velocidades[0]`). O furacão `\"Cuba I\"` afetou `\"Central America, Mexico, Cuba, Florida, Bahamas\"` (`areas_afetadas[0]`) e assim por diante."
      ]
    },
    {
      "cell_type": "code",
      "execution_count": null,
      "metadata": {
        "id": "FJUcbsj6jEso"
      },
      "outputs": [],
      "source": [
        "# Nomes dos furacões\n",
        "nomes = ['Cuba I', 'San Felipe II Okeechobee', 'Bahamas', 'Cuba II',\n",
        "         'CubaBrownsville', 'Tampico', 'Labor Day', 'New England',\n",
        "         'Carol', 'Janet', 'Carla', 'Hattie',\n",
        "         'Beulah', 'Camille', 'Edith', 'Anita',\n",
        "         'David', 'Allen', 'Gilbert', 'Hugo',\n",
        "         'Andrew', 'Mitch', 'Isabel', 'Ivan',\n",
        "         'Emily', 'Katrina', 'Rita', 'Wilma',\n",
        "         'Dean', 'Felix', 'Matthew', 'Irma',\n",
        "         'Maria', 'Michael']\n",
        "\n",
        "# Mês de ocorrência\n",
        "meses = ['October', 'September', 'September', 'November', 'August',\n",
        "         'September', 'September', 'September', 'September', 'September',\n",
        "         'September', 'October', 'September', 'August', 'September',\n",
        "         'September', 'August', 'August', 'September', 'September',\n",
        "         'August', 'October', 'September', 'September', 'July',\n",
        "         'August', 'September', 'October', 'August', 'September',\n",
        "         'October', 'September', 'September', 'October']\n",
        "\n",
        "# Ano de ocorrência\n",
        "anos = [1924, 1928, 1932, 1932, 1933, 1933, 1935, 1938, 1953, 1955, 1961,\n",
        "        1961, 1967, 1969, 1971, 1977, 1979, 1980, 1988, 1989, 1992, 1998,\n",
        "        2003, 2004, 2005, 2005, 2005, 2005, 2007, 2007, 2016, 2017, 2017, 2018]\n",
        "\n",
        "# Velocidade máxima dos ventos (mph)\n",
        "max_velocidades = [165, 160, 160, 175, 160, 160, 185, 160, 160, 175, 175,\n",
        "                   160, 160, 175, 160, 175, 175, 190, 185, 160, 175, 180,\n",
        "                   165, 165, 160, 175, 180, 185, 175, 175, 165, 180, 175, 160]\n",
        "\n",
        "# Áreas afetadas pelos furacões\n",
        "areas_afetadas = [['Central America', 'Mexico', 'Cuba', 'Florida', 'The Bahamas'],\n",
        "                  ['Lesser Antilles', 'The Bahamas', 'United States East Coast', 'Atlantic Canada'],\n",
        "                  ['The Bahamas', 'Northeastern United States'],\n",
        "                  ['Lesser Antilles', 'Jamaica', 'Cayman Islands', 'Cuba', 'The Bahamas', 'Bermuda'],\n",
        "                  ['The Bahamas', 'Cuba', 'Florida', 'Texas', 'Tamaulipas'],\n",
        "                  ['Jamaica', 'Yucatn Peninsula'],\n",
        "                  ['The Bahamas', 'Florida', 'Georgia', 'The Carolinas', 'Virginia'],\n",
        "                  ['Southeastern United States', 'Northeastern United States', 'Southwestern Quebec'],\n",
        "                  ['Bermuda', 'New England', 'Atlantic Canada'], ['Lesser Antilles', 'Central America'],\n",
        "                  ['Texas', 'Louisiana', 'Midwestern United States'], ['Central America'],\n",
        "                  ['The Caribbean', 'Mexico', 'Texas'],\n",
        "                  ['Cuba', 'United States Gulf Coast'],\n",
        "                  ['The Caribbean', 'Central America', 'Mexico', 'United States Gulf Coast'],\n",
        "                  ['Mexico'], ['The Caribbean', 'United States East coast'],\n",
        "                  ['The Caribbean', 'Yucatn Peninsula', 'Mexico', 'South Texas'],\n",
        "                  ['Jamaica', 'Venezuela', 'Central America', 'Hispaniola', 'Mexico'],\n",
        "                  ['The Caribbean', 'United States East Coast'],\n",
        "                  ['The Bahamas', 'Florida', 'United States Gulf Coast'],\n",
        "                  ['Central America', 'Yucatn Peninsula', 'South Florida'],\n",
        "                  ['Greater Antilles', 'Bahamas', 'Eastern United States', 'Ontario'],\n",
        "                  ['The Caribbean', 'Venezuela', 'United States Gulf Coast'],\n",
        "                  ['Windward Islands', 'Jamaica', 'Mexico', 'Texas'], ['Bahamas', 'United States Gulf Coast'],\n",
        "                  ['Cuba', 'United States Gulf Coast'],\n",
        "                  ['Greater Antilles', 'Central America', 'Florida'], ['The Caribbean', 'Central America'],\n",
        "                  ['Nicaragua', 'Honduras'],\n",
        "                  ['Antilles', 'Venezuela', 'Colombia', 'United States East Coast', 'Atlantic Canada'],\n",
        "                  ['Cape Verde', 'The Caribbean', 'British Virgin Islands', 'U.S. Virgin Islands', 'Cuba', 'Florida'],\n",
        "                  ['Lesser Antilles', 'Virgin Islands', 'Puerto Rico', 'Dominican Republic', 'Turks and Caicos Islands'],\n",
        "                  ['Central America', 'United States Gulf Coast (especially Florida Panhandle)']]\n",
        "\n",
        "# Danos registrados (USD($))\n",
        "danos = ['Damages not recorded', '100M', 'Damages not recorded', '40M',\n",
        "         '27.9M', '5M', 'Damages not recorded', '306M', '2M', '65.8M',\n",
        "         '326M', '60.3M', '208M', '1.42B', '25.4M', 'Damages not recorded',\n",
        "         '1.54B', '1.24B', '7.1B', '10B', '26.5B', '6.2B', '5.37B',\n",
        "         '23.3B', '1.01B', '125B', '12B', '29.4B', '1.76B', '720M',\n",
        "         '15.1B', '64.8B', '91.6B', '25.1B']\n",
        "\n",
        "# Mortes registradas\n",
        "mortes = [90, 4000, 16, 3103, 179, 184, 408, 682, 5, 1023, 43, 319,\n",
        "          688, 259, 37, 11, 2068, 269, 318, 107, 65, 19325, 51, 124,\n",
        "          17, 1836, 125, 87, 45, 133, 603, 138, 3057, 74]"
      ]
    },
    {
      "cell_type": "markdown",
      "metadata": {
        "id": "jcIKjvI1laSs"
      },
      "source": [
        "**a)** Escreva a função `converte_moeda` que recebe a lista `danos` e retorna uma nova lista em que os danos registrados são convertidos para  formato `float` (ou seja, para valores monetários em dólares) e aqueles rotulados como `'Damages not recorded'` permaneçam inalterados."
      ]
    },
    {
      "cell_type": "code",
      "execution_count": null,
      "metadata": {
        "id": "Sd39rN0vmAE2"
      },
      "outputs": [],
      "source": [
        "# Função converte_moeda\n"
      ]
    },
    {
      "cell_type": "code",
      "source": [
        "# Testes da função converte_moeda\n",
        "''' Os cinco primeiros elementos da lista de retorno devem ser:\n",
        "'Damages not recorded', 100000000.0, 'Damages not recorded',\n",
        "40000000.0, 27900000.0 '''\n",
        "lista_moeda = converte_moeda(danos)\n",
        "print('Cinco primeiros elementos:')\n",
        "print(lista_moeda[:5])\n",
        "print('Lista completa:')\n",
        "print(lista_moeda)"
      ],
      "metadata": {
        "id": "pwriFI6sE4Qz"
      },
      "execution_count": null,
      "outputs": []
    },
    {
      "cell_type": "markdown",
      "metadata": {
        "id": "Bg0gU0-nnFmE"
      },
      "source": [
        "**b)** Escreva a função `gera_dic_nomes` que cria um dicionário a partir das 7 listas fornecidas.\n",
        "\n",
        "Cada entrada desse dicionário deve ter como chave o nome de um furacão sendo seu respectivo valor um outro dicionário cujas chaves são `Mes`, `Ano`, `Max Velocidade`, `Areas Afetadas`, `Danos` e `Mortes` associadas aos valores presentes em cada lista.\n",
        "\n",
        "Como exemplo, a entrada do dicionário referente ao furacao `'Cuba I'` terá a forma:\n",
        "\n",
        "`'Cuba I': {'Mes': 'October', 'Ano': 1924, 'Max Velocidade': 165, 'Areas Afetadas': ['Central America', 'Mexico', 'Cuba', 'Florida', 'The Bahamas'], 'Danos': 'Damages not recorded', 'Mortes': 90}`"
      ]
    },
    {
      "cell_type": "code",
      "execution_count": null,
      "metadata": {
        "id": "6L7Mk3qXFQJi"
      },
      "outputs": [],
      "source": [
        "# Função gera_dic_nomes\n"
      ]
    },
    {
      "cell_type": "code",
      "source": [
        "# Testes da função gera_dic_nomes\n",
        "dic_nomes = gera_dic_nomes(nomes, meses, anos, max_velocidades,\n",
        "                   areas_afetadas, danos, mortes)\n",
        "print('Entrada de chave \"Cuba I\":')\n",
        "print(dic_nomes['Cuba I'])\n",
        "print('Entrada de chave \"Camille\":')\n",
        "print(dic_nomes['Camille'])\n",
        "print('Dicionário completo:')\n",
        "print(dic_nomes)"
      ],
      "metadata": {
        "id": "HXRW28xeFWhD"
      },
      "execution_count": null,
      "outputs": []
    },
    {
      "cell_type": "markdown",
      "metadata": {
        "id": "X36duPWGF76z"
      },
      "source": [
        "**c)** Escreva a função `gera_dic_anos` que cria um dicionário a partir das 7 listas fornecidas.\n",
        "\n",
        "Cada entrada desse dicionário deve ter como chave o ano de ocorrência, sendo seu respectivo valor uma lista contendo dicionários com todas as informações acerca de cada furacão que ocorreu naquele ano (com a exceção da chave `Ano` que será a chave principal).\n",
        "\n",
        "Sendo assim, a entrada do dicionário referente ao ano de `1932` (no qual ocorreram os furacões `Bahamas`e `Cuba II`) terá a forma:\n",
        "\n",
        "`1932: [{'Nome': 'Bahamas', 'Mes': 'September', 'Max Velocidade': 160,'Areas Afetadas': ['The Bahamas', 'Northeastern United States'], 'Danos': 'Damages not recorded', 'Deaths': 16}, {'Nome': 'Cuba II', 'Mes': 'November', 'Max Velocidade': 175, 'Areas Afetadas': ['Lesser Antilles', 'Jamaica', 'Cayman Islands', 'Cuba', 'The Bahamas', 'Bermuda'], 'Danos': 40000000.0, 'Mortes': 3103}]`"
      ]
    },
    {
      "cell_type": "code",
      "execution_count": null,
      "metadata": {
        "id": "LB9vP3T9HRrJ"
      },
      "outputs": [],
      "source": [
        "# Função gera_dic_anos\n"
      ]
    },
    {
      "cell_type": "code",
      "source": [
        "# Testes da função gera_dic_anos\n",
        "dic_anos = gera_dic_anos(nomes, meses, anos, max_velocidades,\n",
        "                         areas_afetadas, danos, mortes)\n",
        "print('Entrada de chave \"1932\":')\n",
        "print(dic_anos[1932])\n",
        "print('Entrada de chave \"2018\":')\n",
        "print(dic_anos[2018])\n",
        "print('Dicionário completo:')\n",
        "print(dic_anos)"
      ],
      "metadata": {
        "id": "ybWfxLINGUWL"
      },
      "execution_count": null,
      "outputs": []
    },
    {
      "cell_type": "markdown",
      "metadata": {
        "id": "uzeHytVOHr57"
      },
      "source": [
        "**d)** Escreva a função `contagem_areas` que determina o número de vezes que cada área foi afetada pelos furacões.\n",
        "\n",
        "O retorno deve ser feito na forma de um dicionário cujas chaves são as áreas afetadas associadas a contagem do número de vezes em que tal área foi atingida.\n",
        "\n",
        "Para efeito de teste de sua função, seguem algumas entradas desse dicionário:\n",
        "\n",
        "`'Central America': 9, 'Mexico': 7, 'Cuba': 6, 'Florida': 6, 'The Bahamas': 7`"
      ]
    },
    {
      "cell_type": "code",
      "execution_count": null,
      "metadata": {
        "id": "2BeO_6ouIyoK"
      },
      "outputs": [],
      "source": [
        "# Função contagem_areas\n"
      ]
    },
    {
      "cell_type": "code",
      "source": [
        "# Teste da função contagem_areas\n",
        "print(contagem_areas(areas_afetadas))"
      ],
      "metadata": {
        "id": "gHQrJSEqHA0h"
      },
      "execution_count": null,
      "outputs": []
    }
  ],
  "metadata": {
    "colab": {
      "provenance": []
    },
    "kernelspec": {
      "display_name": "Python 3",
      "name": "python3"
    },
    "language_info": {
      "name": "python"
    }
  },
  "nbformat": 4,
  "nbformat_minor": 0
}