{
  "cells": [
    {
      "cell_type": "markdown",
      "metadata": {
        "id": "PDPL77ECcuyT"
      },
      "source": [
        "#**TTI103 - Lógica de Programação**\n",
        "\n",
        "#**Aula L24 - Recursividade**"
      ]
    },
    {
      "cell_type": "markdown",
      "metadata": {
        "id": "lDV-TDlVUCFw"
      },
      "source": [
        "#**Exercício 01 – Multiplicação Recursiva**\n",
        "\n",
        "Elabore uma função recursiva que recebe dois parâmetros `x` e `y` (assuma valores maiores ou iguais a zero). A função deve retornar o valor de `x` multiplicado por `y`.\n",
        "\n",
        "Lembre-se que a multiplicação pode ser realizada por meio de adições sequenciais.\n",
        "\n",
        "Veja um exemplo:\n",
        "\n",
        "`7 × 4 = 4 + 4 + 4 + 4 + 4 + 4 + 4`\n"
      ]
    },
    {
      "cell_type": "code",
      "execution_count": null,
      "metadata": {
        "id": "WII83vQlUhx6"
      },
      "outputs": [],
      "source": [
        "# Multiplicação Recursiva (x, y são >= 0)\n",
        "def mult_rec(x, y):\n",
        "    if x == 0 or y == 0:\n",
        "        return 0 \n",
        "    return y + mult_rec(x-1, y)\n",
        "# Testes\n",
        "print('-- Multiplicação recursiva --')\n",
        "print(mult_rec(4, 6))\n",
        "print(mult_rec(5, 1))\n",
        "print(mult_rec(0, 456))"
      ]
    },
    {
      "cell_type": "markdown",
      "metadata": {
        "id": "GY1uiq0HVWV-"
      },
      "source": [
        "#**Exercício 02 – Linhas recursivas**\n",
        "\n",
        "Escreva uma função recursiva que recebe um inteiro positivo `n` e exibe `n` linhas de asteriscos.\n",
        "\n",
        "A primeira linha deve exibir um asterisco; a segunda dois asteriscos e assim por diante até a `n-ésima` linha, com a exibição de `n` asteriscos."
      ]
    },
    {
      "cell_type": "code",
      "execution_count": null,
      "metadata": {
        "id": "BKF0TdJkVgAO"
      },
      "outputs": [],
      "source": [
        "# Imprime asteriscos com recursividade (n >= 0)\n",
        "def imprime_asteriscos(n):\n",
        "    if n == 0:\n",
        "        return\n",
        "\n",
        "    print('*', end='')\n",
        "# Testes\n",
        "print('-- Impressão de asteriscos [recursivo] --')\n",
        "imprime_asteriscos(10)\n",
        "imprime_asteriscos(0)"
      ]
    },
    {
      "cell_type": "markdown",
      "metadata": {
        "id": "6WYUW_jlWG1V"
      },
      "source": [
        "#**Exercício 03 – Máximo valor contido em uma lista**\n",
        "\n",
        "Construa uma função que recebe uma lista de números como parâmetro e retorna o máximo valor nela contido. A função deve ser recursiva!"
      ]
    },
    {
      "cell_type": "code",
      "execution_count": null,
      "metadata": {
        "id": "OJnnn_hfWLdm"
      },
      "outputs": [],
      "source": [
        "# Máximo valor em uma lista\n",
        "\n",
        "# Testes\n",
        "print('-- Máximo valor em uma lista [recursiva] --')\n",
        "print(max_valor([-3, 4, 6, 90, 45]))\n",
        "print(max_valor([-5]))\n",
        "print(max_valor2([-3, 4, 6, 90, 45]))\n",
        "print(max_valor2([-5]))"
      ]
    },
    {
      "cell_type": "markdown",
      "metadata": {
        "id": "QOtsxUjAW74t"
      },
      "source": [
        "#**Exercício 04 – Soma recursiva dos elementos de uma lista**\n",
        "\n",
        "Construa uma função que recebe uma lista de números e retorna a soma dos elementos da lista, calculada recursivamente."
      ]
    },
    {
      "cell_type": "code",
      "execution_count": null,
      "metadata": {
        "id": "K7u68wSdXzfX"
      },
      "outputs": [],
      "source": [
        "# Soma dos elementos de uma lista\n",
        "\n",
        "# Testes\n",
        "print('-- Soma recursiva de elementos em uma lista --')\n",
        "print(soma_lista([]))\n",
        "print(soma_lista([2]))\n",
        "print(soma_lista([-5, 0, 4, 6]))\n",
        "print(soma_lista2([]))\n",
        "print(soma_lista2([2]))\n",
        "print(soma_lista2([-5, 0, 4, 6]))"
      ]
    },
    {
      "cell_type": "markdown",
      "metadata": {
        "id": "GnSjp58tYPD0"
      },
      "source": [
        "#**Exercício 05 – Soma dos n primeiros inteiros**\n",
        "\n",
        "Elabore uma função que recebe um inteiro `n` (positivo) como um parâmetro e retorna a soma de todos os inteiros positivos até `n`. Por exemplo, se `n = 50`, a função deve retornar a soma `1 + 2 + 3 + ⋯ + 48 + 49 + 50`. Use recursão no cálculo da soma."
      ]
    },
    {
      "cell_type": "code",
      "execution_count": null,
      "metadata": {
        "id": "pXPuF6YOYdc8"
      },
      "outputs": [],
      "source": [
        "# Soma dos n primeiros inteiros\n",
        "\n",
        "# Testes\n",
        "print('-- Soma recursiva de todos os inteiros até n --')\n",
        "print(soma_todos(1))\n",
        "print(soma_todos(10))\n",
        "print(soma_todos2(50))"
      ]
    },
    {
      "cell_type": "markdown",
      "metadata": {
        "id": "kQSp_w5uXRcV"
      },
      "source": [
        "#**Exercício 06 – Potência recursiva**\n",
        "\n",
        "Escreva uma função que recebe dois inteiros `x` e `y`. A função deve usar a recursão para o cálculo de `x` elevado a potência `y`."
      ]
    },
    {
      "cell_type": "code",
      "execution_count": null,
      "metadata": {
        "id": "zRuRaz7BYtyd"
      },
      "outputs": [],
      "source": [
        "# Potência recursiva\n",
        "\n",
        "# Testes\n",
        "print('-- Potência recursiva --')\n",
        "print(potencia(3, 0))\n",
        "print(potencia(4, 1))\n",
        "print(potencia(3, 4))"
      ]
    }
  ],
  "metadata": {
    "colab": {
      "provenance": []
    },
    "kernelspec": {
      "display_name": "Python 3",
      "language": "python",
      "name": "python3"
    },
    "language_info": {
      "codemirror_mode": {
        "name": "ipython",
        "version": 3
      },
      "file_extension": ".py",
      "mimetype": "text/x-python",
      "name": "python",
      "nbconvert_exporter": "python",
      "pygments_lexer": "ipython3",
      "version": "3.11.3"
    },
    "vscode": {
      "interpreter": {
        "hash": "c261aea317cc0286b3b3261fbba9abdec21eaa57589985bb7a274bf54d6cc0a7"
      }
    }
  },
  "nbformat": 4,
  "nbformat_minor": 0
}
