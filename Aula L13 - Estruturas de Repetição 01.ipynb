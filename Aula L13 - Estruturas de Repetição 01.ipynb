{
  "cells": [
    {
      "cell_type": "markdown",
      "metadata": {
        "id": "oNAE5ZPfjt3g"
      },
      "source": [
        "#**TTI103 - Lógica de Programação**\n",
        "\n",
        "#**Aula L13 - Estruturas de Repetição 01**"
      ]
    },
    {
      "cell_type": "markdown",
      "metadata": {
        "id": "kahb9Oa-G6OF"
      },
      "source": [
        "#**Estruturas de repetição no Python**\n",
        "\n",
        "* Estrutura Enquanto-Faça: no Python, é implementada pela instrução `while` e possui a seguinte sintaxe:"
      ]
    },
    {
      "cell_type": "code",
      "execution_count": null,
      "metadata": {
        "id": "ahmYsSzGoYXT"
      },
      "outputs": [],
      "source": [
        "# Estrutura Enquanto-Faça\n",
        "while <condição>:\n",
        "  <comandos a serem repetidos>"
      ]
    },
    {
      "cell_type": "markdown",
      "metadata": {
        "id": "jzFoqxDTqEoM"
      },
      "source": [
        "* Estrutura Para-até-Faça: no Python, é implementada pelo comando `for`. Em algumas linguagens de programação como C e Java, o\n",
        "comando `for` é utilizado em conjunto com uma variável do tipo inteiro (ou outra enumerável), que funciona como um contador que controla a quantidade de vezes que o laço será repetido. No Python, o comando `for` só funciona com tipos de dados que permitem iterações (chamados iteráveis) e o tipo inteiro não possui essa característica. Assim, a sintaxe do comando `for` em Python tem a forma:\n"
      ]
    },
    {
      "cell_type": "code",
      "execution_count": null,
      "metadata": {
        "id": "YobZcwikollk"
      },
      "outputs": [],
      "source": [
        "for <item> in <conjunto de itens>:\n",
        "  <comandos a serem repetidos>"
      ]
    },
    {
      "cell_type": "markdown",
      "metadata": {
        "id": "xAvp_AHNKrMb"
      },
      "source": [
        "#**Laços para percorrer os elementos de uma lista**\n",
        "\n",
        "Para ilustrar as formas mais usuais de percorrer os elementos de uma lista, vamos utilizar a lista que contém os anos de obtenção das cinco conquistas do Brasil em Copas do Mundo de Futebol até o momento (já usada na Aula L9)."
      ]
    },
    {
      "cell_type": "code",
      "execution_count": null,
      "metadata": {
        "id": "njI5JPw1qFe9"
      },
      "outputs": [],
      "source": [
        "anos_conquistas = [1958, 1962, 1970, 1994, 2002]\n",
        "print(anos_conquistas)"
      ]
    },
    {
      "cell_type": "markdown",
      "metadata": {
        "id": "N8LfEuRuqTYT"
      },
      "source": [
        "Como já sabemos, é possível usar uma variável inteira para indicar a posição do elemento na lista. Assim, podemos usar a seguinte construção com a estrutura `while`para percorrer os elementos da lista `anos_conquistas`:"
      ]
    },
    {
      "cell_type": "code",
      "execution_count": null,
      "metadata": {
        "id": "3a6c9vxfqzHk"
      },
      "outputs": [],
      "source": [
        "i = 0\n",
        "while i < len(anos_conquistas):\n",
        "  print(anos_conquistas[i])\n",
        "  i += 1"
      ]
    },
    {
      "cell_type": "markdown",
      "metadata": {
        "id": "Z4yaQTA-rFp8"
      },
      "source": [
        "Na célula acima, observe que a variável `i` recebe o valor zero que corresponde ao primeiro índice e, enquanto o índice for menor que o comprimento da lista (`= len(anos_conquistas)`), o elemento de índice `i` é impresso.\n",
        "\n",
        "Se optarmos por usar a estrutura `for`, podemos usar a sintaxe:"
      ]
    },
    {
      "cell_type": "code",
      "execution_count": null,
      "metadata": {
        "id": "DpV7auuXu4xQ"
      },
      "outputs": [],
      "source": [
        "for i in range(len(anos_conquistas)):\n",
        "  print(anos_conquistas[i])"
      ]
    },
    {
      "cell_type": "markdown",
      "metadata": {
        "id": "jYbkj4wtvCSE"
      },
      "source": [
        "A série retornada pelo comando `range(len(lista))` é um objeto iterável do tipo `range` e os elementos nela contidos serão gerados sob demanda durante o for, evitando o desperdício de memória.\n",
        "\n",
        "Além disso, note que não há a necessidade de:\n",
        "\n",
        "* inicializar o valor da variável de índice `i` (com `while`, foi preciso usar `i = 0` antes da estrutura de repetição);\n",
        "\n",
        "* atualizar o valor da variável de índice `i` (com `while`, foi preciso usar `i += 1` dentro da estrutura de repetição).\n",
        "\n",
        "O Python possui ainda uma segunda sintaxe mais compacta que pode ser empregada para acessar diretamente os elementos de uma lista sem mencionar explicitamente os seus índices."
      ]
    },
    {
      "cell_type": "code",
      "execution_count": null,
      "metadata": {
        "id": "XHyuikVfw-z_"
      },
      "outputs": [],
      "source": [
        "for ano in anos_conquistas:\n",
        "  print(ano)"
      ]
    },
    {
      "cell_type": "markdown",
      "metadata": {
        "id": "OEpCn6S3sLls"
      },
      "source": [
        "#**Exercício 01**\n",
        "\n",
        "Elabore um programa Python que exiba todos os números pares entre zero e um número `N` fornecido pelo usuário.\n",
        "\n",
        "**Requisito:** Certifique-se de que o usuário tenha digitado um número positivo, inteiro ou real. Pense em qual caso engloba o outro!"
      ]
    },
    {
      "cell_type": "code",
      "execution_count": null,
      "metadata": {
        "id": "hzNxMzS3z9cX"
      },
      "outputs": [],
      "source": [
        "# Exercício 01\n",
        "list[]"
      ]
    },
    {
      "cell_type": "markdown",
      "metadata": {
        "id": "KaEOD61l1HCQ"
      },
      "source": [
        "#**Exercício 02**\n",
        "\n",
        "Elabore um programa Python que calcule e exiba o valor da série $S$ a partir de $x$ e $n$ fornecidos pelo usuário:\n",
        "\n",
        "$$S=\\ln x+x+\\frac{x^2}{2}+\\frac{x^3}{3}+\\cdots+\\frac{x^n}{n}$$\n",
        "\n",
        "**Requisitos:**\n",
        "* Uma vez que a série envolve a função $\\ln x$, devems garantir que $x>0$.\n",
        "* $n$ é um inteiro positivo. Assim, ainda que o usuário tenha fornecido um valor real, o programa deve convertê-lo para o tipo inteiro, usando o comando `int()`.\n",
        "* O valor da série deve ser exibido com precisão de três casas decimais.\n",
        "\n"
      ]
    },
    {
      "cell_type": "code",
      "execution_count": 2,
      "metadata": {
        "id": "W8GqssGp2vNg"
      },
      "outputs": [
        {
          "ename": "NameError",
          "evalue": "name 'x' is not defined",
          "output_type": "error",
          "traceback": [
            "\u001b[1;31m---------------------------------------------------------------------------\u001b[0m",
            "\u001b[1;31mNameError\u001b[0m                                 Traceback (most recent call last)",
            "Cell \u001b[1;32mIn[2], line 11\u001b[0m\n\u001b[0;32m      9\u001b[0m         \u001b[38;5;28mprint\u001b[39m(\u001b[38;5;124m\"\u001b[39m\u001b[38;5;124merro n positivo \u001b[39m\u001b[38;5;124m\"\u001b[39m)\n\u001b[0;32m     10\u001b[0m n \u001b[38;5;241m=\u001b[39m \u001b[38;5;28mint\u001b[39m(n)\n\u001b[1;32m---> 11\u001b[0m S \u001b[38;5;241m=\u001b[39m log(x)\n\u001b[0;32m     12\u001b[0m \u001b[38;5;28;01mfor\u001b[39;00m i \u001b[38;5;129;01min\u001b[39;00m \u001b[38;5;28mrange\u001b[39m (\u001b[38;5;241m1\u001b[39m, n\u001b[38;5;241m+\u001b[39m\u001b[38;5;241m1\u001b[39m):\n\u001b[0;32m     13\u001b[0m     s \u001b[38;5;241m+\u001b[39m\u001b[38;5;241m=\u001b[39m x\u001b[38;5;241m*\u001b[39m\u001b[38;5;241m*\u001b[39mi\u001b[38;5;241m/\u001b[39mi\n",
            "\u001b[1;31mNameError\u001b[0m: name 'x' is not defined"
          ]
        }
      ],
      "source": [
        "# Exercício 02\n",
        "x = \n",
        "from math import log\n",
        "ok = False \n",
        "while not ok:\n",
        "    n = float(input(\"Digite um n: \"))\n",
        "    if n > 0:\n",
        "        ok = True\n",
        "    else:\n",
        "        print(\"erro n positivo \")\n",
        "n = int(n)\n",
        "S = log(x)\n",
        "for i in range (1, n+1):\n",
        "    s += x**i/i\n",
        "    print(f'valor da serie e {S:.3f}')\n"
      ]
    },
    {
      "cell_type": "markdown",
      "metadata": {
        "id": "o-Jj_zylXNnN"
      },
      "source": [
        "Para ajudar na resolução do próximo exercício, vamos empregar a função `choice` do módulo `random`. Essa função escolhe (pseudo)aleatoriamente um elemento de uma lista à cada execução. Veja um exemplo de uso da função na célula a seguir. Execute-o algumas vezes!"
      ]
    },
    {
      "cell_type": "code",
      "execution_count": 16,
      "metadata": {
        "id": "EBQUDoZIX_lf"
      },
      "outputs": [
        {
          "name": "stdout",
          "output_type": "stream",
          "text": [
            "1a escolha = banana\n",
            "2a escolha = maçã\n",
            "3a escolha = maçã\n",
            "4a escolha = maçã\n",
            "5a escolha = cereja\n",
            "6a escolha = maçã\n",
            "7a escolha = banana\n",
            "8a escolha = banana\n",
            "9a escolha = maçã\n",
            "10a escolha = cereja\n"
          ]
        }
      ],
      "source": [
        "from random import choice\n",
        "\n",
        "frutas = ['maçã', 'banana', 'cereja']\n",
        "for i in range(10):\n",
        "  print(f'{i+1}a escolha = {choice(frutas)}')"
      ]
    },
    {
      "cell_type": "markdown",
      "metadata": {
        "id": "Aai71pygahp-"
      },
      "source": [
        "Também será útil empregar o método `count` das listas Python. O método retorna o número de ocorrências de determinado elemento em uma lista. Veja o exemplo a seguir."
      ]
    },
    {
      "cell_type": "code",
      "execution_count": null,
      "metadata": {
        "id": "QCIfYUEobC4u"
      },
      "outputs": [],
      "source": [
        "lista_num = [3, 2, 3, 3, -1, 0, 3, 4, 5, 5, 5]\n",
        "print(f'O número 3 aparece na lista_num {lista_num.count(3)} vezes.')\n",
        "print(f'O número 0 aparece na lista_num {lista_num.count(0)} vezes.')\n",
        "print(f'O número 5 aparece na lista_num {lista_num.count(5)} vezes.')"
      ]
    },
    {
      "cell_type": "markdown",
      "metadata": {
        "id": "CtoqrTEm5RNR"
      },
      "source": [
        "#**Exercício 03**\n",
        "\n",
        "Elabore um programa Python para gerenciar uma eleição. Os votos válidos são representados pelos números 1, 2 e 3, cada um correspondendo a um candidato. O voto em branco é representado pelo número 0 e o voto nulo, pelo número –1. O fluxograma deverá processar $N$ respostas da votação, calcular e exibir:\n",
        "\n",
        "**a)** o total de votos para cada candidato;\n",
        "\n",
        "**b)** o total de votos em branco;\n",
        "\n",
        "**c)** o total de votos nulos;\n",
        "\n",
        "**d)** a porcentagem de votos válidos do candidato vencedor.\n",
        "\n",
        "**Requisitos:**\n",
        "* Use uma estrutura de repetição em conjunto com a função `choice` para gerar uma lista com os $N$ votos.\n",
        "* Use o método `count` para totalizar os votos.\n"
      ]
    },
    {
      "cell_type": "code",
      "execution_count": 25,
      "metadata": {
        "id": "_Ekm8QpcXKMF"
      },
      "outputs": [
        {
          "name": "stdout",
          "output_type": "stream",
          "text": [
            "*** resultados gerais ***\n",
            "o candidato 1 obteve 199 votos.\n",
            "o candidato 2 obteve 207 votos.\n",
            "o candidato 3 obteve 192 votos.\n",
            "foram 217 votos_cand1, 185 votos_cand2, votos_cand3\n",
            "o candidato vencedor e o numero 2.\n"
          ]
        },
        {
          "ename": "ValueError",
          "evalue": "Format specifier missing precision",
          "output_type": "error",
          "traceback": [
            "\u001b[1;31m---------------------------------------------------------------------------\u001b[0m",
            "\u001b[1;31mValueError\u001b[0m                                Traceback (most recent call last)",
            "Cell \u001b[1;32mIn[25], line 22\u001b[0m\n\u001b[0;32m     20\u001b[0m porcentagem \u001b[38;5;241m=\u001b[39m votos_validos[vencedor]\u001b[38;5;241m/\u001b[39m\u001b[38;5;28msum\u001b[39m(votos_validos)\n\u001b[0;32m     21\u001b[0m \u001b[38;5;28mprint\u001b[39m(\u001b[38;5;124mf\u001b[39m\u001b[38;5;124m'\u001b[39m\u001b[38;5;124mo candidato vencedor e o numero \u001b[39m\u001b[38;5;132;01m{\u001b[39;00mvencedor\u001b[38;5;250m \u001b[39m\u001b[38;5;241m+\u001b[39m\u001b[38;5;250m \u001b[39m\u001b[38;5;241m1\u001b[39m\u001b[38;5;132;01m}\u001b[39;00m\u001b[38;5;124m.\u001b[39m\u001b[38;5;124m'\u001b[39m)\n\u001b[1;32m---> 22\u001b[0m \u001b[38;5;28mprint\u001b[39m(\u001b[38;5;124mf\u001b[39m\u001b[38;5;124m'\u001b[39m\u001b[38;5;124mo vencedor obteve \u001b[39m\u001b[38;5;132;01m{\u001b[39;00m\u001b[38;5;241m100\u001b[39m\u001b[38;5;241m*\u001b[39mporcentagem\u001b[38;5;132;01m:\u001b[39;00m\u001b[38;5;124m 2.f\u001b[39m\u001b[38;5;132;01m}\u001b[39;00m\u001b[38;5;124m%  dos votos validos.\u001b[39m\u001b[38;5;124m'\u001b[39m)\n",
            "\u001b[1;31mValueError\u001b[0m: Format specifier missing precision"
          ]
        }
      ],
      "source": [
        "from random import choice\n",
        "\n",
        "N = int(input(\"Digite o número de votos a serem processados: \"))\n",
        "escolhas = [-1, 0, 1, 2, 3]\n",
        "votos = []\n",
        "\n",
        "for i in range(N):\n",
        "    votos.append(choice(escolhas))\n",
        "\n",
        "votos_nulos = votos.count(-1)\n",
        "votos_brancos = votos.count(0)\n",
        "votos_cand1 = votos.count(1)\n",
        "votos_cand2 = votos.count(2)\n",
        "votos_cand3 = votos.count(3)\n",
        "\n",
        "print(\"*** resultados gerais ***\")\n",
        "print(f\"O candidato 1 obteve {votos_cand1} votos.\")\n",
        "print(f\"O candidato 2 obteve {votos_cand2} votos.\")\n",
        "print(f\"O candidato 3 obteve {votos_cand3} votos.\")\n",
        "print(f\"Foram {votos_nulos} votos nulos, {votos_brancos} votos em branco.\")\n",
        "votos_validos = [votos_cand1, votos_cand2, votos_cand3]\n",
        "vencedor = votos_validos.index(max(votos_validos))\n",
        "porcentagem = votos_validos[vencedor]/sum(votos_validos)\n",
        "print(f\"O candidato vencedor é o número {vencedor + 1}.\")\n",
        "print(f\"O vencedor obteve {100*porcentagem:.2f}% dos votos válidos.\")"
      ]
    },
    {
      "cell_type": "markdown",
      "metadata": {
        "id": "rBgjlHNtk9JU"
      },
      "source": [
        "O próximo exercício vai usar o módulo `Turtle`. Para isso, instale-o executando a célula a seguir."
      ]
    },
    {
      "cell_type": "code",
      "execution_count": 29,
      "metadata": {
        "id": "nj0iBrwLlD5d"
      },
      "outputs": [
        {
          "ename": "AttributeError",
          "evalue": "module 'turtle' has no attribute 'showborder'",
          "output_type": "error",
          "traceback": [
            "\u001b[1;31m---------------------------------------------------------------------------\u001b[0m",
            "\u001b[1;31mAttributeError\u001b[0m                            Traceback (most recent call last)",
            "Cell \u001b[1;32mIn[29], line 9\u001b[0m\n\u001b[0;32m      7\u001b[0m turtle\u001b[38;5;241m.\u001b[39msetup(\u001b[38;5;241m2\u001b[39m\u001b[38;5;241m*\u001b[39mlado, lado)\n\u001b[0;32m      8\u001b[0m turtle\u001b[38;5;241m.\u001b[39mbgcolor(\u001b[38;5;124m'\u001b[39m\u001b[38;5;124mlightgray\u001b[39m\u001b[38;5;124m'\u001b[39m)\n\u001b[1;32m----> 9\u001b[0m turtle\u001b[38;5;241m.\u001b[39mshowborder()\n\u001b[0;32m     11\u001b[0m leo \u001b[38;5;241m=\u001b[39m turtle()\n",
            "\u001b[1;31mAttributeError\u001b[0m: module 'turtle' has no attribute 'showborder'"
          ]
        }
      ],
      "source": [
        "import turtle\n",
        "from random import choice \n",
        "lado = 320 \n",
        "velocidade = 8 \n",
        "\n",
        "turtle.clearscreen()\n",
        "turtle.setup(2*lado, lado)\n",
        "turtle.bgcolor('lightgray')\n",
        "turtle.showborder()\n",
        "\n",
        "leo = turtle()"
      ]
    },
    {
      "cell_type": "markdown",
      "metadata": {
        "id": "n7c-z0Fokg2F"
      },
      "source": [
        "#**Exercício 04**\n",
        "\n",
        "Elabore um programa Python que faça com que Leonardo, Michelangelo, Donatelo e Rafael disputem um corrida! No início, as tartarugas devem se posicionar no extremo esquerdo da tela e então percorrer distâncias sorteadas aleatoriamente entre os inteiros 1 e 10. A tartaruga que chegar primeiro atingie o extremo direito da janela vence! Nesse instante, o programa deve encerrar os sorteios."
      ]
    },
    {
      "cell_type": "code",
      "execution_count": 26,
      "metadata": {
        "id": "-qbkHq-NmOB0"
      },
      "outputs": [
        {
          "name": "stdout",
          "output_type": "stream",
          "text": [
            "*** resultados gerais ***\n",
            "O candidato 1 obteve 197 votos.\n",
            "O candidato 2 obteve 213 votos.\n",
            "O candidato 3 obteve 188 votos.\n",
            "Foram 216 votos nulos, 186 votos em branco.\n",
            "O candidato vencedor é o número 2.\n",
            "O vencedor obteve 35.62% dos votos válidos.\n"
          ]
        }
      ],
      "source": []
    }
  ],
  "metadata": {
    "colab": {
      "provenance": []
    },
    "kernelspec": {
      "display_name": "Python 3",
      "name": "python3"
    },
    "language_info": {
      "codemirror_mode": {
        "name": "ipython",
        "version": 3
      },
      "file_extension": ".py",
      "mimetype": "text/x-python",
      "name": "python",
      "nbconvert_exporter": "python",
      "pygments_lexer": "ipython3",
      "version": "3.11.7"
    }
  },
  "nbformat": 4,
  "nbformat_minor": 0
}
