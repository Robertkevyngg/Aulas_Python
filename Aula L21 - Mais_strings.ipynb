{
  "cells": [
    {
      "cell_type": "markdown",
      "metadata": {
        "id": "eukAJhnq3T1T"
      },
      "source": [
        "#**TTI103 - Lógica de Programação**\n",
        "\n",
        "#**Aula L21 - Mais strings**"
      ]
    },
    {
      "cell_type": "markdown",
      "metadata": {
        "id": "57mESXyENDjL"
      },
      "source": [
        "##**Exercício 01 - Manipulações simples com strings**\n",
        "\n",
        "**a)** Construa um programa em Python que troque todas as ocorrencias de uma letra L1 pela letra L2 em uma *string*. A *string* e as letras L1 e L2 devem ser fornecidas pelo usuario."
      ]
    },
    {
      "cell_type": "code",
      "execution_count": 2,
      "metadata": {
        "id": "AOLneMzYNY77"
      },
      "outputs": [
        {
          "name": "stdout",
          "output_type": "stream",
          "text": [
            "nova frase e podo da gogo.\n"
          ]
        }
      ],
      "source": [
        "#entrada de dados\n",
        "frase = input(\"insira a frase: \")\n",
        "l1 = input(\"digite a letra a ser substituida\")\n",
        "l2 = input(\"digite a letra a ser substituida\")\n",
        "nova_frase = frase.replace(l1, l2)\n",
        "print(f'nova frase e {nova_frase}.')"
      ]
    },
    {
      "cell_type": "markdown",
      "metadata": {
        "id": "G-pgO4j7Ndez"
      },
      "source": [
        "**b)** Escreva um programa que leia duas palavras e diga qual deles vem primeiro na ordem\n",
        "alfabetica.\n",
        "\n",
        "*Dica:* `'a'` é menor do que `'b'`."
      ]
    },
    {
      "cell_type": "code",
      "execution_count": 4,
      "metadata": {
        "id": "ki54cf-bN67b"
      },
      "outputs": [
        {
          "name": "stdout",
          "output_type": "stream",
          "text": [
            "true  vem depois de turple \n"
          ]
        }
      ],
      "source": [
        "p1 = input(\"digite a primeira palavra: \").lower()\n",
        "p2 = input(\"digite a segunda palavra \").lower()\n",
        "if p1 < p2:\n",
        "    print(f'{p1} vem antes de {p2}')\n",
        "elif p1 > p2:\n",
        "    print(f'{p2} vem depois de {p1}')\n",
        "else:\n",
        "    print('as palavras são iguais')\n"
      ]
    },
    {
      "cell_type": "markdown",
      "metadata": {
        "id": "_N5TtBNNZkHY"
      },
      "source": []
    },
    {
      "cell_type": "code",
      "execution_count": null,
      "metadata": {
        "id": "lGwW5F_cZwa_"
      },
      "outputs": [],
      "source": [
        "# Exercício 01c\n",
        "numeros_str = input(\"digite os numeros separados por espaços\")\n",
        "#lista com numero reais\n",
        "numeros = [float(num) for num in numeros_str.split(sep=\" \")]\n",
        "'''numeros = []\n",
        "for num in numeros_str.split(sep=\" \"):\n",
        "    numeros.append(float(num))'''\n",
        "print(numeros)\n",
        "print(f'A soma dos numeros é {sum(numeros)}.')"
      ]
    },
    {
      "cell_type": "markdown",
      "metadata": {
        "id": "xZx6J_JQaxVB"
      },
      "source": [
        "**d)** Escreva uma função com protótipo:"
      ]
    },
    {
      "cell_type": "code",
      "execution_count": 9,
      "metadata": {
        "id": "rpxniP8acmmp"
      },
      "outputs": [],
      "source": [
        "def insereSeNovo (nome, lista):\n",
        "  ''' (str, list) -> int\n",
        "  Modifica a lista, inserindo nome na lista.\n",
        "  Retorna a posição de nome na lista ou None caso ele já exista.\n",
        "  '''\n",
        "  if nome in lista:\n",
        "    return None\n",
        "\n",
        "  else:\n",
        "\n",
        "    lista.append(nome)\n",
        "    return len(lista) - 1"
      ]
    },
    {
      "cell_type": "markdown",
      "metadata": {
        "id": "cgRU7VIzcp2Z"
      },
      "source": [
        "Essa função devolve a posição em que o *string* `x` ocorre em lista ou, caso `x` não estiver na lista, insere `x` no final da lista e devolve o índice dessa posição. O código a seguir deve ser usado para testar aus função:"
      ]
    },
    {
      "cell_type": "code",
      "execution_count": 10,
      "metadata": {
        "id": "Ja2xcw3Yc_ao"
      },
      "outputs": [
        {
          "name": "stdout",
          "output_type": "stream",
          "text": [
            "['Ronaldo', 'Romario', 'Rivelino', 'Pele'], que deve ser Ronaldo, Romario, Rivelino, Pele.\n"
          ]
        }
      ],
      "source": [
        "# Exercício 01d\n",
        "\n",
        "# Codigo de teste\n",
        "lista = ['Ronaldo', 'Romario', 'Rivelino']\n",
        "pos = insereSeNovo('Romario', lista)\n",
        "pos = insereSeNovo('Pele', lista)\n",
        "pos = insereSeNovo('Rivelino', lista)\n",
        "print(f'{lista}, que deve ser Ronaldo, Romario, Rivelino, Pele.')"
      ]
    },
    {
      "cell_type": "markdown",
      "metadata": {
        "id": "ybjQmQpq8qL3"
      },
      "source": [
        "**e)** Elabore um programa modular que leia o nome do usuário e o imprima na vertical, em forma de escada, usando apenas letras maiúsculas.\n",
        "\n",
        "Exemplo de uso:\n",
        "\n",
        "Nome = Vanessa\n",
        "\n",
        "Resultado gerado pelo programa:\n",
        "\n",
        "V\n",
        "\n",
        "VA\n",
        "\n",
        "VAN\n",
        "\n",
        "VANE\n",
        "\n",
        "VANES\n",
        "\n",
        "VANESS\n",
        "\n",
        "VANESSA"
      ]
    },
    {
      "cell_type": "code",
      "execution_count": 12,
      "metadata": {
        "id": "S_oocSDC8rSx"
      },
      "outputs": [
        {
          "name": "stdout",
          "output_type": "stream",
          "text": [
            "V\n",
            "VI\n",
            "VIT\n",
            "VITO\n",
            "VITOR\n"
          ]
        },
        {
          "data": {
            "text/plain": [
              "'def ler_nome():\\n    \"\"\"Lê o nome do usuário da entrada.\"\"\"\\n    nome = input(\"Digite seu nome: \").upper()\\n    return nome\\n\\ndef imprimir_nome_vertical(nome):\\n    \"\"\"Imprime o nome verticalmente em forma de escada.\"\"\"\\n    for i in range(len(nome)):\\n        print(nome[:i+1])\\n\\ndef main():\\n    \"\"\"A função principal que chama as outras funções.\"\"\"\\n    nome = ler_nome()\\n    imprimir_nome_vertical(nome)\\n\\nif __name__ == \"__main__\":\\n    main()'"
            ]
          },
          "execution_count": 12,
          "metadata": {},
          "output_type": "execute_result"
        }
      ],
      "source": [
        "def imprimir_escada(nome):\n",
        "    nome = nome.upper()\n",
        "    for indice in range(1, len(nome) + 1 ):\n",
        "        print(nome[:indice])\n",
        "nome = input('digite seu nome: ')\n",
        "imprimir_escada(nome)\n",
        "\n",
        "\n",
        "\n",
        "'''def ler_nome():\n",
        "    \"\"\"Lê o nome do usuário da entrada.\"\"\"\n",
        "    nome = input(\"Digite seu nome: \").upper()\n",
        "    return nome\n",
        "\n",
        "def imprimir_nome_vertical(nome):\n",
        "    \"\"\"Imprime o nome verticalmente em forma de escada.\"\"\"\n",
        "    for i in range(len(nome)):\n",
        "        print(nome[:i+1])\n",
        "\n",
        "def main():\n",
        "    \"\"\"A função principal que chama as outras funções.\"\"\"\n",
        "    nome = ler_nome()\n",
        "    imprimir_nome_vertical(nome)\n",
        "\n",
        "if __name__ == \"__main__\":\n",
        "    main()'''"
      ]
    },
    {
      "cell_type": "markdown",
      "metadata": {
        "id": "WaIyvXLa38Xo"
      },
      "source": [
        "##**Exercício 02 – Senha da biblioteca**\n",
        "\n",
        "Uma biblioteca distribui um cartão magnético para que os alunos possam frequentá-la. A senha inicial, enviada pelo correio, é gerada automaticamente a partir da data de nascimento do aluno ('dd/mm/aaaa') do seguinte modo:\n",
        "\n",
        "`mm +'$'+dd(invertido) + '#' + dd'!'mm(invertido) + '\\'+aaaa`\n",
        "\n",
        "Assim, se a data de nascimento é 25/10/1995, a senha será:\n",
        "\n",
        "`10$52#25!01\\1995`\n",
        "\n",
        "Escreva um programa modular que solicite ao usuário a inserção da data de nascimento no formato dd/mm/aaaa e retorne sua senha de acordo com as regras da biblioteca."
      ]
    },
    {
      "cell_type": "code",
      "execution_count": null,
      "metadata": {
        "id": "T6hD6HtbhvmY"
      },
      "outputs": [],
      "source": [
        "'''def inverte_data(data):\n",
        "    \"\"\"Inverte a data no formato dd/mm/aaaa.\"\"\"\n",
        "    dia, mes, ano = data.split('/')\n",
        "    return mes + '/' + dia + '/' + ano\n",
        "\n",
        "def gera_senha(data):\n",
        "    \"\"\"Gera a senha da biblioteca a partir da data de nascimento.\"\"\"\n",
        "    data_invertida = inverte_data(data)\n",
        "    dia, mes, ano = data_invertida.split('/')\n",
        "    senha = mes + '$' + dia[::-1] + '#' + dia + '!' + mes[::-1] + '\\\\' + ano\n",
        "    return senha\n",
        "\n",
        "def main():\n",
        "    \"\"\"Lê a data de nascimento do usuário e imprime a senha.\"\"\"\n",
        "    data = input(\"Digite a data de nascimento (dd/mm/aaaa): \")\n",
        "    senha = gera_senha(data)\n",
        "    print(\"Sua senha é:\", senha)\n",
        "\n",
        "if __name__ == \"__main__\":\n",
        "    main()'''\n",
        "\n",
        "\n",
        "\n",
        "\n",
        "\n",
        "def separar_data(data):\n",
        "    \"\"\"Separa a data em dia, mês e ano.\"\"\"\n",
        "    return data.split(\"/\")\n",
        "\n",
        "def inverter_data(data):\n",
        "    \"\"\"Inverte o dia e o mês.\"\"\"\n",
        "    dia, mes, ano = separar_data(data)\n",
        "    return mes, dia, ano\n",
        "\n",
        "def gera_senha(data):\n",
        "    \"\"\"Gera a senha da biblioteca.\"\"\"\n",
        "    dia, mes, ano = separar_data(data)\n",
        "    mes_invertido, dia_invertido, ano_invertido = inverter_data(data)\n",
        "    senha = f'{mes_invertido}${dia_invertido[::-1]}#{dia}!{mes_invertido[::-1]}\\\\{ano}'\n",
        "    return senha\n",
        "\n",
        "data_nasc = input(\"Digite a data de nascimento (dd/mm/aaaa): \")\n",
        "print(f'Sua senha é: {gera_senha(data_nasc)}')"
      ]
    },
    {
      "cell_type": "markdown",
      "metadata": {
        "id": "SMMs32Hih5VO"
      },
      "source": [
        "##**Exercício 03 - DNA**\n",
        "\n",
        "Construa uma função `DNA_complementar` que recebe uma *string* que representa\n",
        "uma cadeia de DNA e gera a cadeia complementar. A\n",
        "entrada e saída de dados deve ser feita pelo programa principal.\n",
        "\n",
        "Lembrando: O DNA (Ácido Desoxirribonucléico) é composto por milhões de nucleotídeos ligados uns aos outros. Separadamente, os nucleotídeos são bastante simples, consistindo de três partes diferentes:\n",
        "\n",
        "* Base nitrogenada (Adenina (A), Timina (T), Guanina (G) ou Citosina(C));\n",
        "* Desoxirribose (um açúcar por cinco carbonos);\n",
        "* Um grupamento fosfato.\n",
        "\n",
        "As bases nitrogenadas Adenina e Timina são complementares; o mesmo ocorre com Guanina e Citosina.\n",
        "\n",
        "Exemplo de uso:\n",
        "* Entrada: `AATCTGCAC`\n",
        "* Saída: `TTAGACGTG`"
      ]
    },
    {
      "cell_type": "code",
      "execution_count": null,
      "metadata": {
        "id": "wmZLDEF4fBkB"
      },
      "outputs": [],
      "source": [
        "# Exercício 03\n",
        "def DNA_complementar(dna):\n",
        "    \"\"\"\n",
        "    Receives a string representing a DNA sequence and returns its complementary sequence.\n",
        "    \"\"\"\n",
        "    complement = \"\"\n",
        "    for base in dna:\n",
        "        if base == \"A\":\n",
        "            complement += \"T\"\n",
        "        elif base == \"T\":\n",
        "            complement += \"A\"\n",
        "        elif base == \"G\":\n",
        "            complement += \"C\"\n",
        "        elif base == \"C\":\n",
        "            complement += \"G\"\n",
        "    return complement[::-1]\n",
        "\n",
        "if __name__ == \"__main__\":\n",
        "    dna = input(\"Enter a DNA sequence: \")\n",
        "    print(f\"The complementary sequence is: {DNA_complementar(dna)}\")\n",
        "\n",
        "\n",
        "\n",
        "\n",
        "\n",
        "\n",
        "\n"
      ]
    },
    {
      "cell_type": "markdown",
      "metadata": {
        "id": "war3Lk2g9tQg"
      },
      "source": [
        "##**Exercício 04 - Ordenar títulos**\n",
        "\n",
        "Elabore um programa modular para ordenar uma lista de títulos de livros em ordem alfabética e deixá-los separados por vírgula.\n",
        "\n",
        "A lista de títulos é fornecida como uma *string* chamada “titulos”, onde cada título está em uma nova linha.\n",
        "\n",
        "Segue exemplo de lista:"
      ]
    },
    {
      "cell_type": "code",
      "execution_count": 17,
      "metadata": {
        "id": "NZb7GYVO9645"
      },
      "outputs": [
        {
          "name": "stdout",
          "output_type": "stream",
          "text": [
            "1984, A Metamorfose, A Revolução dos Bichos, Cem Anos de Solidão, Crime e Castigo, Harry Potter e a Pedra Filosofal, Macunaíma, O Lobo da Estepe, O Senhor dos Anéis\n"
          ]
        }
      ],
      "source": [
        "'''titulos = \"\"\"O Senhor dos Anéis\n",
        "Harry Potter e a Pedra Filosofal\n",
        "1984\n",
        "O Lobo da Estepe\n",
        "Cem Anos de Solidão\n",
        "A Metamorfose\n",
        "A Revolução dos Bichos\n",
        "Crime e Castigo\n",
        "Macunaíma\"\"\"\n",
        "def ordenar_titulos(titulos):\n",
        "    lista_titulos = titulos.split(sep='\\n')\n",
        "    return lista_titulos.sort()\n",
        "\n",
        "def juntar_titulos(lista_titulos):\n",
        "    return ', '.join(lista_titulos)\n",
        "titulos_ord = ordenar_titulos(titulos)\n",
        "titulos_virgula = juntar_titulos(titulos_ord)\n",
        "print(titulos_virgula)'''\n",
        "\n",
        "titulos = \"\"\"O Senhor dos Anéis\n",
        "Harry Potter e a Pedra Filosofal\n",
        "1984\n",
        "O Lobo da Estepe\n",
        "Cem Anos de Solidão\n",
        "A Metamorfose\n",
        "A Revolução dos Bichos\n",
        "Crime e Castigo\n",
        "Macunaíma\"\"\"\n",
        "\n",
        "def ordenar_titulos(titulos):\n",
        "    \"\"\"\n",
        "    Ordena os títulos dados alfabeticamente.\n",
        "    \"\"\"\n",
        "    return \"\\n\".join(sorted(titulos.split(\"\\n\")))\n",
        "\n",
        "def juntar_titulos(titulos):\n",
        "    \"\"\"\n",
        "    Une os títulos dados com uma vírgula e um espaço entre cada título.\n",
        "    \"\"\"\n",
        "    return \", \".join(sorted(titulos.split(\"\\n\")))\n",
        "\n",
        "titulos_ord = ordenar_titulos(titulos)\n",
        "titulos_virgula = juntar_titulos(titulos_ord)\n",
        "\n",
        "print(titulos_virgula)"
      ]
    },
    {
      "cell_type": "code",
      "execution_count": null,
      "metadata": {
        "id": "645yoUoO-N1H"
      },
      "outputs": [],
      "source": [
        "# Exercício 04\n"
      ]
    },
    {
      "cell_type": "markdown",
      "metadata": {
        "id": "rJslIK3M--Nr"
      },
      "source": [
        "##**Exercício 05 - Contar palavras**\n",
        "\n",
        "Você trabalha em uma biblioteca e recebeu uma lista de títulos de artigos. Sua tarefa é criar um programa modular que conte quantas vezes uma determinada palavra aparece nos títulos dos artigos.\n",
        "\n",
        "Um exemplo de lista de títulos é visto na célula de código a seguir. Use essa lista para testar seu código, usando como entrada a *string* `'GPT'`."
      ]
    },
    {
      "cell_type": "code",
      "execution_count": null,
      "metadata": {
        "id": "lHfM0-ZY_ID6"
      },
      "outputs": [],
      "source": [
        "artigos = [\n",
        "'RecurrentGPT: Interactive Generation of (Arbitrarily) Long Text',\n",
        "'VideoLLM: Modeling Video Sequence with Large Language Models',\n",
        "'Watermarking Text Data on Large Language Models for Dataset Copyright Protection',\n",
        "'InheritSumm: A General, Versatile and Compact Summarizer by Distilling from GPT',\n",
        "'Can Large Language Models emulate an inductive Thematic Analysis of semi-structured interviews? An exploration and provocation on the limits of the approach and the model',\n",
        "'GPT-SW3: An Autoregressive Language Model for the Nordic Languages',\n",
        "'The Emergence of Economic Rationality of GPT',\n",
        "'Can We Edit Factual Knowledge by In-Context Learning?',\n",
        "'G3Detector: General GPT-Generated Text Detector',\n",
        "'GPT Paternity Test: GPT Generated Text Detection with GPT Genetic Inheritance'\n",
        "]"
      ]
    },
    {
      "cell_type": "code",
      "execution_count": null,
      "metadata": {
        "id": "FDN8S2tD_Jhv"
      },
      "outputs": [],
      "source": [
        "# Exercício 05"
      ]
    }
  ],
  "metadata": {
    "colab": {
      "provenance": []
    },
    "kernelspec": {
      "display_name": "Python 3",
      "language": "python",
      "name": "python3"
    },
    "language_info": {
      "codemirror_mode": {
        "name": "ipython",
        "version": 3
      },
      "file_extension": ".py",
      "mimetype": "text/x-python",
      "name": "python",
      "nbconvert_exporter": "python",
      "pygments_lexer": "ipython3",
      "version": "3.11.7"
    },
    "vscode": {
      "interpreter": {
        "hash": "c261aea317cc0286b3b3261fbba9abdec21eaa57589985bb7a274bf54d6cc0a7"
      }
    }
  },
  "nbformat": 4,
  "nbformat_minor": 0
}
