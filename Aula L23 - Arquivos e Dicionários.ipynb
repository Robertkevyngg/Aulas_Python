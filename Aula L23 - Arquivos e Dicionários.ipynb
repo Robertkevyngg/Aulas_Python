{
  "cells": [
    {
      "cell_type": "markdown",
      "metadata": {
        "id": "PDPL77ECcuyT"
      },
      "source": [
        "#**TTI103 - Lógica de Programação**\n",
        "\n",
        "#**Aula L23 - Arquivos e Dicionários**"
      ]
    },
    {
      "cell_type": "markdown",
      "metadata": {
        "id": "lDV-TDlVUCFw"
      },
      "source": [
        "# Exercício 01 – Distribuindo cartas de um baralho\n",
        "\n",
        "Construa um programa que distribua aleatoriamente\n",
        "as cartas de um baralho completo a partir da escolha do número de cartas desejado.\n",
        "\n",
        "A cada “mão”, o programa deve imprimir as cartas distribuídas e informar o valor agregado da “mão”. O processo deve continuar até que todas as cartas do baralho tenham sido distribuídas. Para isso:\n",
        "\n",
        "**a)** Elabore uma função `criar_baralho` que deve retornar um dicionário `baralho` representativo das\n",
        "cartas e os seus respectivos valores (vamos adotar o valor 1 para os ases e o valor 10 para os valetes,\n",
        "damas e reis, como no *“black jack”* ). A seguir, teste sua função usando:\n",
        "\n",
        "`print(criar_baralho())`\n"
      ]
    },
    {
      "cell_type": "code",
      "execution_count": 3,
      "metadata": {
        "collapsed": true,
        "id": "WII83vQlUhx6"
      },
      "outputs": [
        {
          "name": "stdout",
          "output_type": "stream",
          "text": [
            "{'AsdeOuros': 1, '2deOuros': 2, '3deOuros': 3, '4deOuros': 4, '5deOuros': 5, '6deOuros': 6, '7deOuros': 7, '8deOuros': 8, '9deOuros': 9, '10deOuros': 10, 'ValetedeOuros': 10, 'DamadeOuros': 10, 'ReideOuros': 10, 'AsdeEspadas': 1, '2deEspadas': 2, '3deEspadas': 3, '4deEspadas': 4, '5deEspadas': 5, '6deEspadas': 6, '7deEspadas': 7, '8deEspadas': 8, '9deEspadas': 9, '10deEspadas': 10, 'ValetedeEspadas': 10, 'DamadeEspadas': 10, 'ReideEspadas': 10, 'AsdeCopas': 1, '2deCopas': 2, '3deCopas': 3, '4deCopas': 4, '5deCopas': 5, '6deCopas': 6, '7deCopas': 7, '8deCopas': 8, '9deCopas': 9, '10deCopas': 10, 'ValetedeCopas': 10, 'DamadeCopas': 10, 'ReideCopas': 10, 'AsdePaus': 1, '2dePaus': 2, '3dePaus': 3, '4dePaus': 4, '5dePaus': 5, '6dePaus': 6, '7dePaus': 7, '8dePaus': 8, '9dePaus': 9, '10dePaus': 10, 'ValetedePaus': 10, 'DamadePaus': 10, 'ReidePaus': 10}\n"
          ]
        }
      ],
      "source": [
        "def criar_baralho():\n",
        "    naipes = ['Ouros', 'Espadas', 'Copas', 'Paus']\n",
        "    cartas = ['As', '2', '3', '4', '5', '6', '7', '8', '9', '10',   'Valete', 'Dama', 'Rei']\n",
        "    valores = [1, 2, 3, 4, 5, 6, 7, 8, 9, 10, 10, 10, 10] * len(naipes)\n",
        "    nomes = [carta + \" de \" + naipe for naipe in naipes for carta in cartas]\n",
        "    baralho = {nome: valor for (nome, valor) in zip(nomes, valores)}\n",
        "    return baralho\n",
        "    \n",
        "# Teste\n",
        "print(criar_baralho())"
      ]
    },
    {
      "cell_type": "markdown",
      "metadata": {
        "id": "GY1uiq0HVWV-"
      },
      "source": [
        "**b)** Elabore uma função `distribuir_cartas` que recebe o baralho e o número de cartas que se deseja\n",
        "distribuir de forma aleatória (sugestão: use a função `choice` do módulo `random`).\n",
        "\n",
        "A função deve imprimir as cartas selecionadas, eliminá-las do baralho (razão pela qual esse dicionário deve ser uma variável global) e retornar o valor da “mão” distribuída.\n",
        "\n",
        "Teste sua função com o código:\n",
        "\n",
        "`global baralho`\n",
        "\n",
        "`baralho = criar_baralho()`\n",
        "\n",
        "`valor_mao = distribuir_cartas(baralho, 4)`\n",
        "\n",
        "`print(valor_mao)`"
      ]
    },
    {
      "cell_type": "code",
      "execution_count": 4,
      "metadata": {
        "id": "BKF0TdJkVgAO"
      },
      "outputs": [
        {
          "name": "stdout",
          "output_type": "stream",
          "text": [
            "*** cartas sorteadas ***\n",
            "ReideCopas\n",
            "DamadePaus\n",
            "7deCopas\n",
            "9deCopas\n",
            "\n",
            "Valor da mão: None\n"
          ]
        }
      ],
      "source": [
        "# Função distribuir_cartas\n",
        "from random import choice \n",
        "def distribuir_cartas(baralho, num_cartas):\n",
        "    cartas_sobrando = len(baralho)\n",
        "    if num_cartas > cartas_sobrando:\n",
        "        print(f'Não há cartas suficientes no baralho. {cartas_sobrando}')\n",
        "        num_cartas = cartas_sobrando\n",
        "    mao = 0\n",
        "    print('*** cartas sorteadas ***')\n",
        "    for _ in range(num_cartas):\n",
        "        carta = choice(list(baralho))\n",
        "        print(carta)\n",
        "        mao += baralho[carta]\n",
        "        baralho.pop(carta)\n",
        "        \n",
        "         \n",
        "    \n",
        "# Teste\n",
        "global baralho\n",
        "baralho = criar_baralho()\n",
        "valor_mao = distribuir_cartas(baralho, 4)\n",
        "print('\\nValor da mão:', valor_mao)"
      ]
    },
    {
      "cell_type": "markdown",
      "metadata": {
        "id": "6WYUW_jlWG1V"
      },
      "source": [
        "**c)** Elabore um programa gerencie a distribuição das cartas até que o baralho se esgote (lembre-se de usar a cláusula `global` para o dicionário `baralho`!)."
      ]
    },
    {
      "cell_type": "code",
      "execution_count": 6,
      "metadata": {
        "id": "OJnnn_hfWLdm"
      },
      "outputs": [
        {
          "name": "stdout",
          "output_type": "stream",
          "text": [
            "*** cartas sorteadas ***\n",
            "ValetedeCopas\n",
            "DamadeOuros\n",
            "6deOuros\n",
            "8deOuros\n",
            "6deEspadas\n",
            "3deOuros\n",
            "6dePaus\n",
            "7deEspadas\n",
            "DamadePaus\n",
            "4deEspadas\n",
            "AsdeOuros\n",
            "3dePaus\n",
            "AsdeEspadas\n",
            "7deOuros\n",
            "valor desse mao = None\n",
            "restam 38cartas no deck\n",
            "\n",
            "*** cartas sorteadas ***\n",
            "7dePaus\n",
            "8deCopas\n",
            "2dePaus\n",
            "4deOuros\n",
            "6deCopas\n",
            "10deCopas\n",
            "2deEspadas\n",
            "9deEspadas\n",
            "4deCopas\n",
            "ValetedeEspadas\n",
            "5dePaus\n",
            "8deEspadas\n",
            "valor desse mao = None\n",
            "restam 26cartas no deck\n",
            "\n",
            "*** cartas sorteadas ***\n",
            "ReidePaus\n",
            "8dePaus\n",
            "9deOuros\n",
            "9deCopas\n",
            "ReideEspadas\n",
            "valor desse mao = None\n",
            "restam 21cartas no deck\n",
            "\n",
            "*** cartas sorteadas ***\n",
            "AsdePaus\n",
            "10dePaus\n",
            "2deOuros\n",
            "ValetedeOuros\n",
            "AsdeCopas\n",
            "9dePaus\n",
            "10deOuros\n",
            "5deOuros\n",
            "valor desse mao = None\n",
            "restam 13cartas no deck\n",
            "\n",
            "Não há cartas suficientes no baralho. 13\n",
            "*** cartas sorteadas ***\n",
            "10deEspadas\n",
            "ReideOuros\n",
            "5deEspadas\n",
            "DamadeEspadas\n",
            "3deCopas\n",
            "5deCopas\n",
            "4dePaus\n",
            "7deCopas\n",
            "ReideCopas\n",
            "2deCopas\n",
            "DamadeCopas\n",
            "3deEspadas\n",
            "ValetedePaus\n",
            "valor desse mao = None\n",
            "restam 0cartas no deck\n",
            "\n"
          ]
        }
      ],
      "source": [
        "# Programa principal\n",
        "from random import choice\n",
        "\n",
        "#global baralho\n",
        "baralho = criar_baralho()\n",
        "\n",
        "while (len(baralho)) != 0:\n",
        "    num_carta = int(input('quantas cartas quer nessa mao: '))\n",
        "    valor_mao = distribuir_cartas(baralho, num_carta)\n",
        "    print(f'valor desse mao = {valor_mao}')\n",
        "    print(f'restam {len(baralho)}cartas no deck\\n')"
      ]
    },
    {
      "cell_type": "markdown",
      "metadata": {
        "id": "QOtsxUjAW74t"
      },
      "source": [
        "Nos exercícios 02 e 03, usaremos o arquivo “5Parágrafos-1984.txt” que contém os cinco primeiros parágrafos do capítulo 1 da primeira parte da obra “1984” de George Orwell (livro de domínio público).\n",
        "\n",
        "Execute as células a seguir para incorporar o arquivo ao GoogleColab notebook."
      ]
    },
    {
      "cell_type": "code",
      "execution_count": 3,
      "metadata": {
        "id": "K7u68wSdXzfX"
      },
      "outputs": [
        {
          "name": "stdout",
          "output_type": "stream",
          "text": [
            "Collecting gdown\n",
            "  Using cached gdown-5.2.0-py3-none-any.whl.metadata (5.8 kB)\n",
            "Requirement already satisfied: beautifulsoup4 in c:\\users\\rober\\anaconda3\\lib\\site-packages (from gdown) (4.12.2)\n",
            "Requirement already satisfied: filelock in c:\\users\\rober\\anaconda3\\lib\\site-packages (from gdown) (3.13.1)\n",
            "Requirement already satisfied: requests[socks] in c:\\users\\rober\\anaconda3\\lib\\site-packages (from gdown) (2.31.0)\n",
            "Requirement already satisfied: tqdm in c:\\users\\rober\\anaconda3\\lib\\site-packages (from gdown) (4.65.0)\n",
            "Requirement already satisfied: soupsieve>1.2 in c:\\users\\rober\\anaconda3\\lib\\site-packages (from beautifulsoup4->gdown) (2.5)\n",
            "Requirement already satisfied: charset-normalizer<4,>=2 in c:\\users\\rober\\anaconda3\\lib\\site-packages (from requests[socks]->gdown) (2.0.4)\n",
            "Requirement already satisfied: idna<4,>=2.5 in c:\\users\\rober\\anaconda3\\lib\\site-packages (from requests[socks]->gdown) (3.4)\n",
            "Requirement already satisfied: urllib3<3,>=1.21.1 in c:\\users\\rober\\anaconda3\\lib\\site-packages (from requests[socks]->gdown) (2.0.7)\n",
            "Requirement already satisfied: certifi>=2017.4.17 in c:\\users\\rober\\anaconda3\\lib\\site-packages (from requests[socks]->gdown) (2024.2.2)\n",
            "Requirement already satisfied: PySocks!=1.5.7,>=1.5.6 in c:\\users\\rober\\anaconda3\\lib\\site-packages (from requests[socks]->gdown) (1.7.1)\n",
            "Requirement already satisfied: colorama in c:\\users\\rober\\anaconda3\\lib\\site-packages (from tqdm->gdown) (0.4.6)\n",
            "Using cached gdown-5.2.0-py3-none-any.whl (18 kB)\n",
            "Installing collected packages: gdown\n",
            "Successfully installed gdown-5.2.0\n"
          ]
        }
      ],
      "source": [
        "!pip install gdown\n",
        "import gdown"
      ]
    },
    {
      "cell_type": "code",
      "execution_count": 4,
      "metadata": {
        "id": "wQK-SU9aX5Hd"
      },
      "outputs": [
        {
          "name": "stderr",
          "output_type": "stream",
          "text": [
            "Downloading...\n",
            "From: https://drive.google.com/uc?id=1DT_J91JtWc3uz1_e2tUqs6vj7UzHXbKH\n",
            "To: c:\\Users\\rober\\Downloads\\5Parágrafos-1984.txt\n",
            "100%|██████████| 4.33k/4.33k [00:00<00:00, 6.08MB/s]\n"
          ]
        },
        {
          "data": {
            "text/plain": [
              "'5Parágrafos-1984.txt'"
            ]
          },
          "execution_count": 4,
          "metadata": {},
          "output_type": "execute_result"
        }
      ],
      "source": [
        "# Baixando o arquivo\n",
        "file_id = '1DT_J91JtWc3uz1_e2tUqs6vj7UzHXbKH'\n",
        "output_file = '5Parágrafos-1984.txt'\n",
        "gdown.download(f'https://drive.google.com/uc?id={file_id}', output_file)"
      ]
    },
    {
      "cell_type": "markdown",
      "metadata": {
        "id": "GnSjp58tYPD0"
      },
      "source": [
        "# Exercício 02 - Ocorrência de palavras em um texto\n",
        "\n",
        "Escreva um programa que lê o arquivo texto\n",
        "“5Parágrafos-1984.txt” e cria um novo arquivo chamado “Ocorrências.txt” que deve reunir todas as\n",
        "palavras contidas no texto, acompanhadas de sua ocorrência e ordenadas de maneira decrescente.\n",
        "\n",
        "Para isso, modularize seu código:\n",
        "\n",
        "**a)** Elabore uma função `le_arquivo` que recebe como parâmetro o nome de um arquivo texto e retorna o\n",
        "seu conteúdo convertido para caixa baixa."
      ]
    },
    {
      "cell_type": "code",
      "execution_count": 26,
      "metadata": {
        "id": "pXPuF6YOYdc8"
      },
      "outputs": [
        {
          "name": "stdout",
          "output_type": "stream",
          "text": [
            "era um dia frio e luminoso de abril, e os relógios davam treze horas. winston smith, queixo enfiado no peito no esforço de esquivar-se do vento cruel, passou depressa pelas portas de vidro das mansões victory, mas não tão depressa que evitasse a entrada de uma lufada de poeira arenosa junto com ele. o vestíbulo cheirava a repolho cozido e a velhos capachos de pano trançado. numa das extremidades, um pôster colorido, grande demais para ambientes fechados, estava pregado na parede. mostrava simplesmente um rosto enorme, com mais de um metro de largura: o rosto de um homem de uns quarenta e cinco anos, de bigodão preto e feições rudemente agradáveis. winston avançou para a escada. não adiantava tentar o elevador. mesmo quando tudo ia bem, era raro que funcionasse, e agora a eletricidade permanecia cortada enquanto houvesse luz natural. era parte do esforço de economia durante os preparativos para a semana do ódio. o apartamento ficava no sétimo andar e winston, com seus trinta e nove anos e sua úlcera varicosa acima do tornozelo direito, subiu devagar, parando para descansar várias vezes durante o trajeto. em todos os patamares, diante da porta do elevador, o pôster com o rosto enorme fitava-o da parede. era uma dessas pinturas realizadas de modo a que os olhos o acompanhem sempre que você se move. o grande irmão está de olho em você, dizia o letreiro, embaixo. no interior do apartamento, uma voz agradável lia alto uma relação de cifras que de alguma forma dizia respeito à produção de ferro-gusa. a voz\n",
            "saía de uma placa oblonga de metal semelhante a um espelho fosco, integrada à superfície da parede da direita. winston girou um interruptor e a voz diminuiu um pouco, embora as palavras continuassem inteligíveis. o volume do instrumento (chamava-se teletela) podia ser regulado, mas não havia como desligá-lo completamente. winston foi para junto da janela: o macacão azul usado como uniforme do partido não fazia mais que enfatizar a magreza de seu corpo frágil, miúdo. seu cabelo era muito claro, o rosto naturalmente sanguíneo, a pele áspera por causa do sabão ordinário, das navalhas cegas e do frio do inverno que pouco antes chegara ao fim. fora, mesmo visto através da vidraça fechada, o mundo parecia frio. lá embaixo, na rua, pequenos rodamoinhos de vento formavam espirais de poeira e papel picado e, embora o sol brilhasse e o céu fosse de um azul áspero, a impressão que se tinha era de que não havia cor em coisa alguma a não ser nos pôsteres colados por toda parte. não havia lugar de destaque que não ostentasse aquele rosto de bigode negro a olhar para baixo. na fachada da casa logo do outro lado da rua, via-se um deles. o grande irmão está de olho em você, dizia o letreiro, enquanto os olhos escuros pareciam perfurar os de winston. embaixo, no nível da rua, outro pôster, esse com um dos cantos rasgado, adejava operosamente ao vento, ora encobrindo, ora expondo\n",
            "uma palavra solitária: socing. ao longe, um helicóptero, voando baixo sobre os telhados, pairou um instante como uma libélula e voltou a afastar-se a grande velocidade, fazendo uma curva. era a patrulha policial, bisbilhotando pelas janelas das pessoas. as patrulhas, contudo, não eram um problema. o único problema era a polícia das ideias. por trás de winston, a voz da teletela continuava sua lenga-lenga infinita sobre o ferro-gusa e o total cumprimento (com folga) das metas do nono plano trienal. a teletela recebia e transmitia simultaneamente. todo som produzido por winston que ultrapassasse o nível de um sussurro muito discreto seria captado por ela; mais: enquanto winston permanecesse no campo de visão enquadrado pela placa de metal, além de ouvido também\n",
            "poderia ser visto. claro, não havia como saber se você estava sendoobservado num momento específico. tentar adivinhar o sistema utilizado pela polícia das ideias para conectar-se a cada aparelho individual ou a frequência com que o fazia não passava de especulação. era possível inclusive que ela controlasse todo mundo o tempo todo. fosse como fosse, uma coisa era certa: tinha meios de conectar-se a seu aparelho sempre que quisesse. você era obrigado a viver (e vivia, em decorrência do hábito transformado em instinto) acreditando que todo som que fizesse seria ouvido e, se a escuridão não fosse completa, todo movimento examinado meticulosamente.\n"
          ]
        }
      ],
      "source": [
        "def le_arquivo(nome_arq):\n",
        "    arquivo = open(nome_arq, 'r', encoding='latin-1')\n",
        "    texto = arquivo.read()\n",
        "    arquivo.close()\n",
        "    return texto.lower()\n",
        "\n",
        "# Teste\n",
        "print(le_arquivo('5Parágrafos-1984.txt'))"
      ]
    },
    {
      "cell_type": "markdown",
      "metadata": {
        "id": "kQSp_w5uXRcV"
      },
      "source": [
        "**b)** Elabore uma função `palavras_no_texto` que recebe um texto em caixa baixa e logo a seguir remove\n",
        "a sua pontuação (use a lista\n",
        "\n",
        "`pontuacao = [\".\", \",\", \":\", \";\", \"!\", \"?\", \"(\", \")\", \"—\"]`\n",
        "\n",
        "para conseguir isso!). A função deve retornar um dicionário que contenha as palavras utilizadas nesse texto acompanhadas de sua ocorrência."
      ]
    },
    {
      "cell_type": "code",
      "execution_count": 27,
      "metadata": {
        "id": "zRuRaz7BYtyd"
      },
      "outputs": [
        {
          "name": "stdout",
          "output_type": "stream",
          "text": [
            "{'era': 11, 'um': 15, 'dia': 1, 'frio': 3, 'e': 19, 'luminoso': 1, 'de': 35, 'abril': 1, 'os': 7, 'relógios': 1, 'davam': 1, 'treze': 1, 'horas': 1, 'winston': 9, 'smith': 1, 'queixo': 1, 'enfiado': 1, 'no': 6, 'peito': 1, 'esforço': 2, 'esquivar-se': 1, 'do': 14, 'vento': 3, 'cruel': 1, 'passou': 1, 'depressa': 2, 'pelas': 2, 'portas': 1, 'vidro': 1, 'das': 7, 'mansões': 1, 'victory': 1, 'mas': 2, 'não': 12, 'tão': 1, 'que': 16, 'evitasse': 1, 'a': 26, 'entrada': 1, 'uma': 9, 'lufada': 1, 'poeira': 2, 'arenosa': 1, 'junto': 2, 'com': 7, 'ele': 1, 'o': 25, 'vestíbulo': 1, 'cheirava': 1, 'repolho': 1, 'cozido': 1, 'velhos': 1, 'capachos': 1, 'pano': 1, 'trançado': 1, 'numa': 1, 'extremidades': 1, 'pôster': 3, 'colorido': 1, 'grande': 4, 'demais': 1, 'para': 7, 'ambientes': 1, 'fechados': 1, 'estava': 2, 'pregado': 1, 'na': 3, 'parede': 3, 'mostrava': 1, 'simplesmente': 1, 'rosto': 5, 'enorme': 2, 'mais': 3, 'metro': 1, 'largura': 1, 'homem': 1, 'uns': 1, 'quarenta': 1, 'cinco': 1, 'anos': 2, 'bigodão': 1, 'preto': 1, 'feições': 1, 'rudemente': 1, 'agradáveis': 1, 'avançou': 1, 'escada': 1, 'adiantava': 1, 'tentar': 2, 'elevador': 2, 'mesmo': 2, 'quando': 1, 'tudo': 1, 'ia': 1, 'bem': 1, 'raro': 1, 'funcionasse': 1, 'agora': 1, 'eletricidade': 1, 'permanecia': 1, 'cortada': 1, 'enquanto': 3, 'houvesse': 1, 'luz': 1, 'natural': 1, 'parte': 2, 'economia': 1, 'durante': 2, 'preparativos': 1, 'semana': 1, 'ódio': 1, 'apartamento': 2, 'ficava': 1, 'sétimo': 1, 'andar': 1, 'seus': 1, 'trinta': 1, 'nove': 1, 'sua': 2, 'úlcera': 1, 'varicosa': 1, 'acima': 1, 'tornozelo': 1, 'direito': 1, 'subiu': 1, 'devagar': 1, 'parando': 1, 'descansar': 1, 'várias': 1, 'vezes': 1, 'trajeto': 1, 'em': 6, 'todos': 1, 'patamares': 1, 'diante': 1, 'da': 10, 'porta': 1, 'fitava-o': 1, 'dessas': 1, 'pinturas': 1, 'realizadas': 1, 'modo': 1, 'olhos': 2, 'acompanhem': 1, 'sempre': 2, 'você': 5, 'se': 4, 'move': 1, 'irmão': 2, 'está': 2, 'olho': 2, 'dizia': 3, 'letreiro': 2, 'embaixo': 3, 'interior': 1, 'voz': 4, 'agradável': 1, 'lia': 1, 'alto': 1, 'relação': 1, 'cifras': 1, 'alguma': 2, 'forma': 1, 'respeito': 1, 'à': 2, 'produção': 1, 'ferro-gusa': 2, 'saía': 1, 'placa': 2, 'oblonga': 1, 'metal': 2, 'semelhante': 1, 'espelho': 1, 'fosco': 1, 'integrada': 1, 'superfície': 1, 'direita': 1, 'girou': 1, 'interruptor': 1, 'diminuiu': 1, 'pouco': 2, 'embora': 2, 'as': 2, 'palavras': 1, 'continuassem': 1, 'inteligíveis': 1, 'volume': 1, 'instrumento': 1, 'chamava-se': 1, 'teletela': 3, 'podia': 1, 'ser': 3, 'regulado': 1, 'havia': 4, 'como': 5, 'desligá-lo': 1, 'completamente': 1, 'foi': 1, 'janela': 1, 'macacão': 1, 'azul': 2, 'usado': 1, 'uniforme': 1, 'partido': 1, 'fazia': 2, 'enfatizar': 1, 'magreza': 1, 'seu': 3, 'corpo': 1, 'frágil': 1, 'miúdo': 1, 'cabelo': 1, 'muito': 2, 'claro': 2, 'naturalmente': 1, 'sanguíneo': 1, 'pele': 1, 'áspera': 1, 'por': 5, 'causa': 1, 'sabão': 1, 'ordinário': 1, 'navalhas': 1, 'cegas': 1, 'inverno': 1, 'antes': 1, 'chegara': 1, 'ao': 3, 'fim': 1, 'fora': 1, 'visto': 2, 'através': 1, 'vidraça': 1, 'fechada': 1, 'mundo': 2, 'parecia': 1, 'lá': 1, 'rua': 3, 'pequenos': 1, 'rodamoinhos': 1, 'formavam': 1, 'espirais': 1, 'papel': 1, 'picado': 1, 'sol': 1, 'brilhasse': 1, 'céu': 1, 'fosse': 4, 'áspero': 1, 'impressão': 1, 'tinha': 2, 'cor': 1, 'coisa': 2, 'nos': 1, 'pôsteres': 1, 'colados': 1, 'toda': 1, 'lugar': 1, 'destaque': 1, 'ostentasse': 1, 'aquele': 1, 'bigode': 1, 'negro': 1, 'olhar': 1, 'baixo': 2, 'fachada': 1, 'casa': 1, 'logo': 1, 'outro': 2, 'lado': 1, 'via-se': 1, 'deles': 1, 'escuros': 1, 'pareciam': 1, 'perfurar': 1, 'nível': 2, 'esse': 1, 'dos': 1, 'cantos': 1, 'rasgado': 1, 'adejava': 1, 'operosamente': 1, 'ora': 2, 'encobrindo': 1, 'expondo': 1, 'palavra': 1, 'solitária': 1, 'socing': 1, 'longe': 1, 'helicóptero': 1, 'voando': 1, 'sobre': 2, 'telhados': 1, 'pairou': 1, 'instante': 1, 'libélula': 1, 'voltou': 1, 'afastar-se': 1, 'velocidade': 1, 'fazendo': 1, 'curva': 1, 'patrulha': 1, 'policial': 1, 'bisbilhotando': 1, 'janelas': 1, 'pessoas': 1, 'patrulhas': 1, 'contudo': 1, 'eram': 1, 'problema': 2, 'único': 1, 'polícia': 2, 'ideias': 2, 'trás': 1, 'continuava': 1, 'lenga-lenga': 1, 'infinita': 1, 'total': 1, 'cumprimento': 1, 'folga': 1, 'metas': 1, 'nono': 1, 'plano': 1, 'trienal': 1, 'recebia': 1, 'transmitia': 1, 'simultaneamente': 1, 'todo': 5, 'som': 2, 'produzido': 1, 'ultrapassasse': 1, 'sussurro': 1, 'discreto': 1, 'seria': 2, 'captado': 1, 'ela': 2, 'permanecesse': 1, 'campo': 1, 'visão': 1, 'enquadrado': 1, 'pela': 2, 'além': 1, 'ouvido': 2, 'também': 1, 'poderia': 1, 'saber': 1, 'sendoobservado': 1, 'num': 1, 'momento': 1, 'específico': 1, 'adivinhar': 1, 'sistema': 1, 'utilizado': 1, 'conectar-se': 2, 'cada': 1, 'aparelho': 2, 'individual': 1, 'ou': 1, 'frequência': 1, 'passava': 1, 'especulação': 1, 'possível': 1, 'inclusive': 1, 'controlasse': 1, 'tempo': 1, 'certa': 1, 'meios': 1, 'quisesse': 1, 'obrigado': 1, 'viver': 1, 'vivia': 1, 'decorrência': 1, 'hábito': 1, 'transformado': 1, 'instinto': 1, 'acreditando': 1, 'fizesse': 1, 'escuridão': 1, 'completa': 1, 'movimento': 1, 'examinado': 1, 'meticulosamente': 1}\n"
          ]
        }
      ],
      "source": [
        "def palavras_no_texto(texto):\n",
        "    pontuacao = [\".\", \",\", \":\", \";\", \"!\", \"?\", \"(\", \")\", \"—\"]\n",
        "    for caractere in pontuacao:\n",
        "        texto = texto.replace(caractere, '')\n",
        "    palavras = texto.split()\n",
        "    dic_palavras= {}\n",
        "    for palavra in palavras:\n",
        "        if not palavra in dic_palavras:\n",
        "            dic_palavras[palavra] = palavras.count(palavra)\n",
        "    return dic_palavras\n",
        "\n",
        "texto = le_arquivo('5Parágrafos-1984.txt')\n",
        "print(palavras_no_texto(texto))"
      ]
    },
    {
      "cell_type": "markdown",
      "metadata": {
        "id": "uhBmYA_bbq-j"
      },
      "source": [
        "Para realizar o próximo item do exercício, execute as células a seguir e analise o processamento das informações."
      ]
    },
    {
      "cell_type": "code",
      "execution_count": 32,
      "metadata": {
        "id": "rekSG66jbsat"
      },
      "outputs": [
        {
          "name": "stdout",
          "output_type": "stream",
          "text": [
            "{'um': 1, 'dois': 2, 'tres': 3}\n"
          ]
        }
      ],
      "source": [
        "def segundo_elemento(elemento):\n",
        "  return elemento[1]\n",
        "\n",
        "# Cria um dicionário\n",
        "x = {'dois': 2, 'um': 1, 'tres': 3}\n",
        "# Cria uma lista com cada um dos itens do dicionário\n",
        "itens = x.items()\n",
        "# Ordena utilizando o segundo elemento como parâmetro\n",
        "x_ordenado = sorted(itens, key=segundo_elemento)\n",
        "# Converte a lista para um dicionário\n",
        "x = dict(x_ordenado)\n",
        "print(x)"
      ]
    },
    {
      "cell_type": "code",
      "execution_count": null,
      "metadata": {
        "id": "vVeN0UkZbxkM"
      },
      "outputs": [],
      "source": [
        "# Função lambda\n",
        "y = lambda a, b: a + ' ' + b\n",
        "print(y('olá', 'mundo'))\n",
        "z = lambda a, b: a * b\n",
        "print(z(2, 4))"
      ]
    },
    {
      "cell_type": "code",
      "execution_count": null,
      "metadata": {
        "id": "wANK3FEfb24M"
      },
      "outputs": [],
      "source": [
        "# Cria um dicionário\n",
        "x = {'dois': 2, 'um': 1, 'tres': 3}\n",
        "# Cria uma lista com cada um dos itens do dicionário\n",
        "itens = x.items()\n",
        "# Ordena utilizando o segundo elemento como parâmetro\n",
        "x_ordenado = sorted(itens, key=lambda elemento: elemento[1])\n",
        "\n",
        "'''dict_palavras.items() devolve uma lista de tuplas contendo pares\n",
        "(chave, valor) do dicionário. O item é o elemento desta tupla, em que item[0]\n",
        "é a chave e item[1] é o valor. Assim, key=lambda item : item[1] indica que a\n",
        "chave de comparação é o valor dos elementos do dicionário.'''\n",
        "\n",
        "print(dict(x_ordenado))"
      ]
    },
    {
      "cell_type": "markdown",
      "metadata": {
        "id": "frM9tmk5ZZJF"
      },
      "source": [
        "**c)** Elabore uma função `ordena_ocorrencias` que recebe um dicionário de palavras e ocorrências e\n",
        "retorna outro dicionário, com o mesmo conteúdo, porém ordenado de forma decrescente em função das\n",
        "ocorrências de cada palavra."
      ]
    },
    {
      "cell_type": "code",
      "execution_count": 37,
      "metadata": {
        "id": "jKdtT13nZeWU"
      },
      "outputs": [
        {
          "name": "stdout",
          "output_type": "stream",
          "text": [
            "{'de': 35, 'a': 26, 'o': 25, 'e': 19, 'que': 16, 'um': 15, 'do': 14, 'não': 12, 'era': 11, 'da': 10, 'winston': 9, 'uma': 9, 'os': 7, 'das': 7, 'com': 7, 'para': 7, 'no': 6, 'em': 6, 'rosto': 5, 'você': 5, 'como': 5, 'por': 5, 'todo': 5, 'grande': 4, 'se': 4, 'voz': 4, 'havia': 4, 'fosse': 4, 'frio': 3, 'vento': 3, 'pôster': 3, 'na': 3, 'parede': 3, 'mais': 3, 'enquanto': 3, 'dizia': 3, 'embaixo': 3, 'teletela': 3, 'ser': 3, 'seu': 3, 'ao': 3, 'rua': 3, 'esforço': 2, 'depressa': 2, 'pelas': 2, 'mas': 2, 'poeira': 2, 'junto': 2, 'estava': 2, 'enorme': 2, 'anos': 2, 'tentar': 2, 'elevador': 2, 'mesmo': 2, 'parte': 2, 'durante': 2, 'apartamento': 2, 'sua': 2, 'olhos': 2, 'sempre': 2, 'irmão': 2, 'está': 2, 'olho': 2, 'letreiro': 2, 'alguma': 2, 'à': 2, 'ferro-gusa': 2, 'placa': 2, 'metal': 2, 'pouco': 2, 'embora': 2, 'as': 2, 'azul': 2, 'fazia': 2, 'muito': 2, 'claro': 2, 'visto': 2, 'mundo': 2, 'tinha': 2, 'coisa': 2, 'baixo': 2, 'outro': 2, 'nível': 2, 'ora': 2, 'sobre': 2, 'problema': 2, 'polícia': 2, 'ideias': 2, 'som': 2, 'seria': 2, 'ela': 2, 'pela': 2, 'ouvido': 2, 'conectar-se': 2, 'aparelho': 2, 'dia': 1, 'luminoso': 1, 'abril': 1, 'relógios': 1, 'davam': 1, 'treze': 1, 'horas': 1, 'smith': 1, 'queixo': 1, 'enfiado': 1, 'peito': 1, 'esquivar-se': 1, 'cruel': 1, 'passou': 1, 'portas': 1, 'vidro': 1, 'mansões': 1, 'victory': 1, 'tão': 1, 'evitasse': 1, 'entrada': 1, 'lufada': 1, 'arenosa': 1, 'ele': 1, 'vestíbulo': 1, 'cheirava': 1, 'repolho': 1, 'cozido': 1, 'velhos': 1, 'capachos': 1, 'pano': 1, 'trançado': 1, 'numa': 1, 'extremidades': 1, 'colorido': 1, 'demais': 1, 'ambientes': 1, 'fechados': 1, 'pregado': 1, 'mostrava': 1, 'simplesmente': 1, 'metro': 1, 'largura': 1, 'homem': 1, 'uns': 1, 'quarenta': 1, 'cinco': 1, 'bigodão': 1, 'preto': 1, 'feições': 1, 'rudemente': 1, 'agradáveis': 1, 'avançou': 1, 'escada': 1, 'adiantava': 1, 'quando': 1, 'tudo': 1, 'ia': 1, 'bem': 1, 'raro': 1, 'funcionasse': 1, 'agora': 1, 'eletricidade': 1, 'permanecia': 1, 'cortada': 1, 'houvesse': 1, 'luz': 1, 'natural': 1, 'economia': 1, 'preparativos': 1, 'semana': 1, 'ódio': 1, 'ficava': 1, 'sétimo': 1, 'andar': 1, 'seus': 1, 'trinta': 1, 'nove': 1, 'úlcera': 1, 'varicosa': 1, 'acima': 1, 'tornozelo': 1, 'direito': 1, 'subiu': 1, 'devagar': 1, 'parando': 1, 'descansar': 1, 'várias': 1, 'vezes': 1, 'trajeto': 1, 'todos': 1, 'patamares': 1, 'diante': 1, 'porta': 1, 'fitava-o': 1, 'dessas': 1, 'pinturas': 1, 'realizadas': 1, 'modo': 1, 'acompanhem': 1, 'move': 1, 'interior': 1, 'agradável': 1, 'lia': 1, 'alto': 1, 'relação': 1, 'cifras': 1, 'forma': 1, 'respeito': 1, 'produção': 1, 'saía': 1, 'oblonga': 1, 'semelhante': 1, 'espelho': 1, 'fosco': 1, 'integrada': 1, 'superfície': 1, 'direita': 1, 'girou': 1, 'interruptor': 1, 'diminuiu': 1, 'palavras': 1, 'continuassem': 1, 'inteligíveis': 1, 'volume': 1, 'instrumento': 1, 'chamava-se': 1, 'podia': 1, 'regulado': 1, 'desligá-lo': 1, 'completamente': 1, 'foi': 1, 'janela': 1, 'macacão': 1, 'usado': 1, 'uniforme': 1, 'partido': 1, 'enfatizar': 1, 'magreza': 1, 'corpo': 1, 'frágil': 1, 'miúdo': 1, 'cabelo': 1, 'naturalmente': 1, 'sanguíneo': 1, 'pele': 1, 'áspera': 1, 'causa': 1, 'sabão': 1, 'ordinário': 1, 'navalhas': 1, 'cegas': 1, 'inverno': 1, 'antes': 1, 'chegara': 1, 'fim': 1, 'fora': 1, 'através': 1, 'vidraça': 1, 'fechada': 1, 'parecia': 1, 'lá': 1, 'pequenos': 1, 'rodamoinhos': 1, 'formavam': 1, 'espirais': 1, 'papel': 1, 'picado': 1, 'sol': 1, 'brilhasse': 1, 'céu': 1, 'áspero': 1, 'impressão': 1, 'cor': 1, 'nos': 1, 'pôsteres': 1, 'colados': 1, 'toda': 1, 'lugar': 1, 'destaque': 1, 'ostentasse': 1, 'aquele': 1, 'bigode': 1, 'negro': 1, 'olhar': 1, 'fachada': 1, 'casa': 1, 'logo': 1, 'lado': 1, 'via-se': 1, 'deles': 1, 'escuros': 1, 'pareciam': 1, 'perfurar': 1, 'esse': 1, 'dos': 1, 'cantos': 1, 'rasgado': 1, 'adejava': 1, 'operosamente': 1, 'encobrindo': 1, 'expondo': 1, 'palavra': 1, 'solitária': 1, 'socing': 1, 'longe': 1, 'helicóptero': 1, 'voando': 1, 'telhados': 1, 'pairou': 1, 'instante': 1, 'libélula': 1, 'voltou': 1, 'afastar-se': 1, 'velocidade': 1, 'fazendo': 1, 'curva': 1, 'patrulha': 1, 'policial': 1, 'bisbilhotando': 1, 'janelas': 1, 'pessoas': 1, 'patrulhas': 1, 'contudo': 1, 'eram': 1, 'único': 1, 'trás': 1, 'continuava': 1, 'lenga-lenga': 1, 'infinita': 1, 'total': 1, 'cumprimento': 1, 'folga': 1, 'metas': 1, 'nono': 1, 'plano': 1, 'trienal': 1, 'recebia': 1, 'transmitia': 1, 'simultaneamente': 1, 'produzido': 1, 'ultrapassasse': 1, 'sussurro': 1, 'discreto': 1, 'captado': 1, 'permanecesse': 1, 'campo': 1, 'visão': 1, 'enquadrado': 1, 'além': 1, 'também': 1, 'poderia': 1, 'saber': 1, 'sendoobservado': 1, 'num': 1, 'momento': 1, 'específico': 1, 'adivinhar': 1, 'sistema': 1, 'utilizado': 1, 'cada': 1, 'individual': 1, 'ou': 1, 'frequência': 1, 'passava': 1, 'especulação': 1, 'possível': 1, 'inclusive': 1, 'controlasse': 1, 'tempo': 1, 'certa': 1, 'meios': 1, 'quisesse': 1, 'obrigado': 1, 'viver': 1, 'vivia': 1, 'decorrência': 1, 'hábito': 1, 'transformado': 1, 'instinto': 1, 'acreditando': 1, 'fizesse': 1, 'escuridão': 1, 'completa': 1, 'movimento': 1, 'examinado': 1, 'meticulosamente': 1}\n"
          ]
        }
      ],
      "source": [
        "def ordena_ocorrencias(dist_palavras):\n",
        "    itens = list(dist_palavras.items())\n",
        "    ordenado = sorted(itens, key = lambda item: item[1], reverse=True)\n",
        "    return dict(ordenado)\n",
        "\n",
        "# Teste\n",
        "texto = le_arquivo('5Parágrafos-1984.txt')\n",
        "palavras = palavras_no_texto(texto)\n",
        "print(ordena_ocorrencias(palavras))"
      ]
    },
    {
      "cell_type": "markdown",
      "metadata": {},
      "source": []
    },
    {
      "cell_type": "markdown",
      "metadata": {},
      "source": []
    },
    {
      "cell_type": "markdown",
      "metadata": {
        "id": "6lvYD0rCcEec"
      },
      "source": [
        "**d)** Elabore uma função `cria_arq_ocorrencias` que recebe o dicionário ordenado do item anterior e um nome de arquivo a ser criado. Tal arquivo, do tipo .txt, deve relacionar cada palavra presente no dicionário com sua ocorrência. Use o formato:\n",
        "\n",
        "`palavra ==> ocorrência`"
      ]
    },
    {
      "cell_type": "code",
      "execution_count": 36,
      "metadata": {
        "id": "OGqZLqEggaYy"
      },
      "outputs": [],
      "source": [
        "def cria_arq_ocorrencias(dicionario, nome_arq):\n",
        "    arquivo = open(nome_arq, 'w')\n",
        "    for (palavra, ocorrencia) in dicionario.items():\n",
        "        arquivo.write(f'{palavra} {ocorrencia}\\n')\n",
        "    arquivo.close()\n",
        "\n",
        "# Teste\n",
        "texto = le_arquivo('5Parágrafos-1984.txt')\n",
        "palavras = palavras_no_texto(texto)\n",
        "pal_ocor = ordena_ocorrencias(palavras)\n",
        "cria_arq_ocorrencias(pal_ocor, 'Ocorrencias.txt')"
      ]
    },
    {
      "cell_type": "markdown",
      "metadata": {
        "id": "E5WhUvwSdABd"
      },
      "source": [
        "# Exercício 03 – Encriptação e decriptação de arquivos\n",
        "\n",
        "Escreva um programa que usa um dicionário\n",
        "para realizar a encriptação e decriptação de textos. O dicionário a ser usado é `CODIGOS` (vide célula de código do item (d)).\n",
        "\n",
        "Como exemplo de uso, vamos encriptar o conteúdo do arquivo “5Parágrafos-1984.txt”. Após a\n",
        "encriptação, vamos decodificá-lo e checar se conseguimos recuperar o texto original. Para isso:\n",
        "\n",
        "**a)** Reutilize sua implementação da função `le_arquivo` desenvolvida no item (a) do exercício anterior, modificando-a para que mantenha a caixa do texto original.\n"
      ]
    },
    {
      "cell_type": "code",
      "execution_count": 38,
      "metadata": {
        "id": "IbDIFfQRdK5t"
      },
      "outputs": [],
      "source": [
        "# Função le_arquivo\n",
        "def le_arquiv(nome_arq):\n",
        "    arquivo = open(nome_arq, 'r', encoding='latin-1')\n",
        "    texto = arquivo.read()\n",
        "    arquivo.close()\n",
        "    return texto\n"
      ]
    },
    {
      "cell_type": "markdown",
      "metadata": {
        "id": "_PgOGVZcdb50"
      },
      "source": [
        "**b)** Elabore uma função `encriptacao` que recebe um texto, um dicionário para codificação e um nome de\n",
        "arquivo a ser criado. A função deve criar um arquivo com o texto em sua versão encriptada, segundo o\n",
        "dicionário `CODIGOS` (para nosso exemplo, crie o arquivo “Msg_codificada.txt”)."
      ]
    },
    {
      "cell_type": "code",
      "execution_count": 2,
      "metadata": {
        "id": "8U4xzoQrdbab"
      },
      "outputs": [],
      "source": [
        "# Função encriptacao\n",
        "def encriptacao(texto, cod, nome_arq):\n",
        "    # Abre o arquivo\n",
        "    arq = open(nome_arq, 'w', encoding='latin-1')\n",
        "    for caractere in texto:\n",
        "        if caractere in cod:\n",
        "            # Escreve o caractere encriptado no arquivo\n",
        "            arq.write(cod[caractere])\n",
        "        else:\n",
        "            arq.write(caractere)\n",
        "    arq.close()"
      ]
    },
    {
      "cell_type": "markdown",
      "metadata": {
        "id": "rcBznxhDdtwa"
      },
      "source": [
        "**c)** Elabore uma função `decriptacao` que recebe um texto encriptado, o dicionário utilizado para encriptálo (chamado de chave) e um nome de arquivo a ser criado.\n",
        "\n",
        "Assim, a função deve criar um novo arquivo\n",
        "“Msg_decodificada.txt”, contendo o texto decodificado. A função `decriptacao` deve necessariamente\n",
        "usar a função `encriptacao` (em essência, as tarefas são as mesmas!).\n",
        "\n",
        "Pense em como alterar o dicionário `CODIGOS` no corpo de `decriptacao` para que isso seja possível. Ao final do processo, compare o conteúdo dos arquivos “5Parágrafos-1984.txt” e “Msg_decodificada.txt”."
      ]
    },
    {
      "cell_type": "code",
      "execution_count": null,
      "metadata": {
        "id": "g64InFPmd9jt"
      },
      "outputs": [],
      "source": [
        "def encriptacao(texto, chave):\n",
        "    # Dicionário para substituir cada caractere de acordo com a chave\n",
        "    texto_criptografado = ''.join(chave.get(c, c) for c in texto)\n",
        "    return texto_criptografado\n",
        "\n",
        "def decriptacao(texto_criptografado, chave, nome_arquivo):\n",
        "    # Inverter a chave para desfazer a encriptação\n",
        "    chave_invertida = {v: k for k, v in chave.items()}\n",
        "    \n",
        "    # Reutilizar a função encriptacao com a chave invertida para decriptar\n",
        "    texto_decriptado = encriptacao(texto_criptografado, chave_invertida)\n",
        "    \n",
        "    # Escrever o texto decriptado em um arquivo\n",
        "    with open(nome_arquivo, 'w') as arquivo:\n",
        "        arquivo.write(texto_decriptado)\n",
        "    return f\"Arquivo '{nome_arquivo}' criado com sucesso!\"\n",
        "\n",
        "# Exemplo de uso:\n",
        "chave = {'a': 'd', 'b': 'e', 'c': 'f'}  # Exemplo de dicionário de encriptação\n",
        "texto_criptografado = encriptacao('abc', chave)\n",
        "\n",
        "# Decriptando o texto\n",
        "resultado = decriptacao(texto_criptografado, chave, 'Msg_decodificada.txt')\n",
        "print(resultado)\n"
      ]
    },
    {
      "cell_type": "markdown",
      "metadata": {
        "id": "6Qj1wn6ceDJE"
      },
      "source": [
        "**d)** Elabore um program que gerencie a criação dos arquivos “Msg_codificada.txt” e “Msg_decodificada.txt”."
      ]
    },
    {
      "cell_type": "code",
      "execution_count": null,
      "metadata": {
        "id": "mE6BgoQ4dtVb"
      },
      "outputs": [],
      "source": [
        "ARQUIVO = '5Parágrafos-1984.txt'\n",
        "ENCRIPTADO = 'Msg_codificada.txt'\n",
        "DECRIPTADO = 'Msg_decodificada.txt'\n",
        "CODIGOS = {'A':'!', 'Á':'ú', 'À':'Í', 'B':'@', 'C':'#', 'D':'$', 'E':'%',\n",
        "           'É':'À', 'F':'^', 'G':'&', 'H':'*', 'I':'(', 'Í':'à', 'J':')',\n",
        "           'K':'-', 'L':'_', 'M':'+', 'N':'=', 'O':'`', 'Ô':'É', 'Ó':'õ',\n",
        "           'P':'~', 'Q':'{', 'R':'[', 'S':'}', 'T':']', 'U':':', 'Ú':'é',\n",
        "           'V':';', 'W':'\"', 'X':'<', 'Y':'>', 'Z':'0', 'a':'1', 'á':'õ',\n",
        "           'à':'ê', 'ã':'Ú', 'b':'2', 'c':'3', 'd':'4', 'e':'5', 'ê':'Ô',\n",
        "           'é':'ã', 'f':'6', 'g':'7', 'h':'8', 'i':'9', 'í':'Á', 'j':'a',\n",
        "           'k':'b', 'l':'c', 'm':'d', 'n':'e', 'o':'f', 'ô':'í', 'ó':'ô',\n",
        "           'õ':'ó', 'p':'g', 'q':'h', 'r':'i', 's':'j', 't':'k', 'u':'l',\n",
        "           'ú':'á', 'v':'m', 'w':'n', 'x':'o', 'y':'p', 'z':'q'}\n",
        "\n",
        "# Programa principal\n",
        "texto = le_arquivo(ARQUIVO)\n",
        "print(f'{}')"
      ]
    }
  ],
  "metadata": {
    "colab": {
      "provenance": []
    },
    "kernelspec": {
      "display_name": "Python 3",
      "language": "python",
      "name": "python3"
    },
    "language_info": {
      "codemirror_mode": {
        "name": "ipython",
        "version": 3
      },
      "file_extension": ".py",
      "mimetype": "text/x-python",
      "name": "python",
      "nbconvert_exporter": "python",
      "pygments_lexer": "ipython3",
      "version": "3.12.3"
    },
    "vscode": {
      "interpreter": {
        "hash": "c261aea317cc0286b3b3261fbba9abdec21eaa57589985bb7a274bf54d6cc0a7"
      }
    }
  },
  "nbformat": 4,
  "nbformat_minor": 0
}
