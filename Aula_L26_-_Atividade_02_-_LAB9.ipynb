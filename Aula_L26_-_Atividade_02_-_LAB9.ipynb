{
  "cells": [
    {
      "cell_type": "markdown",
      "metadata": {
        "id": "oNAE5ZPfjt3g"
      },
      "source": [
        "#**TTI103 - Lógica de Programação**\n",
        "\n",
        "#**Aula L26 - Atividade 02**\n",
        "\n",
        "#**Prof. Vitor Alex - LAB9 - 20.05.2024 - 11h20**"
      ]
    },
    {
      "cell_type": "markdown",
      "metadata": {
        "id": "v9WCpnd-qtLX"
      },
      "source": [
        "# Instruções\n",
        "A Atividade 02:\n",
        "* cobre os assuntos estudados nas aulas L13 até L25.\n",
        "* pode ser realizada em duplas.\n",
        "* consta de três exercícios:\n",
        "  * Exercício 01 - Valor 3,0 pontos;\n",
        "  * Exercício 02 - Valor 2,0 pontos;\n",
        "  * Exercício 03 - Valor 5,0 pontos.\n",
        "* deve ser enviada ao ambiente Canvas por apenas um dos integrantes da equipe.\n"
      ]
    },
    {
      "cell_type": "markdown",
      "metadata": {
        "id": "1Iie7NE8pkFd"
      },
      "source": [
        "#Identificação\n",
        "A atividade será realizada em duplas. Favor identificar a tarefa com nome completo e RA de cada integrante da equipe."
      ]
    },
    {
      "cell_type": "code",
      "execution_count": null,
      "metadata": {
        "id": "rGI7vP0Ajsob"
      },
      "outputs": [],
      "source": [
        "# @title Nome - 1º Integrante:\n",
        "Nome1 = \"Insira nome completo\" # @param {type:\"string\"}\n"
      ]
    },
    {
      "cell_type": "code",
      "execution_count": null,
      "metadata": {
        "id": "UnY5L7gCqUkV"
      },
      "outputs": [],
      "source": [
        "# @title RA - 1º Integrante:\n",
        "RA1 = \"RA no formato XX.XXXXX-X\" # @param {type:\"string\"}\n"
      ]
    },
    {
      "cell_type": "code",
      "execution_count": null,
      "metadata": {
        "id": "tJwGc4L-q0X4"
      },
      "outputs": [],
      "source": [
        "# @title Nome - 2º Integrante:\n",
        "Nome2 = \"Insira nome completo\" # @param {type:\"string\"}\n"
      ]
    },
    {
      "cell_type": "code",
      "execution_count": null,
      "metadata": {
        "id": "PRb_skA9q9fh"
      },
      "outputs": [],
      "source": [
        "# @title RA - 2º Integrante:\n",
        "RA2 = \"RA no formato XX.XXXXX-X\" # @param {type:\"string\"}\n"
      ]
    },
    {
      "cell_type": "markdown",
      "metadata": {
        "id": "yHnnxSvFrggG"
      },
      "source": [
        "#**Exercício 01**\n",
        "**(Valor: 3,0 pts)** Crie um programa que simule o lançamento de múltiplos dados, permitindo ao usuário escolher o número de dados a ser lançado e a quantidade de lados em cada dado.\n",
        "\n",
        "**Especificações:**\n",
        "* O resultado do lançamento de um dado deve ser determinado com o uso da função `randint` do módulo `random`.\n",
        "* Não há necessidade de validar os dados de entrada.\n",
        "* O programa deve ser modularizado.\n",
        "\n",
        "**a)** Desenvolva a função `sorteio` que recebe o número de lados de um dado e retorna o resultado do seu lançamento. Execute a célula de teste para verificar o funcionamento da função."
      ]
    },
    {
      "cell_type": "code",
      "execution_count": 1,
      "metadata": {
        "id": "r4botnL2s9S5"
      },
      "outputs": [],
      "source": [
        "from random import randint\n",
        "def sorteio(lados):\n",
        "    return randint(1, lados)\n",
        "\n",
        "\n",
        "from random import randin\n",
        "def sorteio(lados):\n",
        "    return randint(1, lados)"
      ]
    },
    {
      "cell_type": "code",
      "execution_count": 2,
      "metadata": {
        "id": "KNfFhw25tqIe"
      },
      "outputs": [
        {
          "name": "stdout",
          "output_type": "stream",
          "text": [
            "4\n",
            "20\n"
          ]
        }
      ],
      "source": [
        "# Testes da função sorteio\n",
        "print(sorteio(8))\n",
        "print(sorteio(20))"
      ]
    },
    {
      "cell_type": "markdown",
      "metadata": {
        "id": "YRbNgnBfzh9z"
      },
      "source": [
        "**b)** Desenvolva a função `multiplos_sorteios` que recebe o número de dados a ser lançado e o número de lados de cada dado. A função deve retornar uma lista com todos os resultados dos lançamentos. Execute a célula de teste para verificar o funcionamento da função.\n",
        "\n",
        "*IMPORTANTE:* A função `multiplos_sorteios` deve, obrigatoriamente, utilizar a função `sorteio`."
      ]
    },
    {
      "cell_type": "code",
      "execution_count": 3,
      "metadata": {
        "id": "HjQXCRdFzhmE"
      },
      "outputs": [],
      "source": [
        "def multiplos_sorteios(num_dados, lados):\n",
        "    resultados = [sorteio(lados) for _ in range(num_dados)]\n",
        "    return resultados"
      ]
    },
    {
      "cell_type": "code",
      "execution_count": 4,
      "metadata": {
        "id": "kLwLvgv7zqpC"
      },
      "outputs": [
        {
          "name": "stdout",
          "output_type": "stream",
          "text": [
            "[14, 15, 9, 2, 6]\n",
            "[3, 9, 10, 6, 1, 9, 1, 6, 10, 4, 10, 7, 2, 6, 10, 5, 2, 4, 2, 2]\n"
          ]
        }
      ],
      "source": [
        "# Testes da função multiplos_sorteios\n",
        "print(multiplos_sorteios(5, 15))\n",
        "print(multiplos_sorteios(20, 10))"
      ]
    },
    {
      "cell_type": "markdown",
      "metadata": {
        "id": "evzozLCc0YHO"
      },
      "source": [
        "**c)** Elabore um programa que solicite ao usuário a digitação do número de lados dos dados ($\\geq3$) e a quantidade de dados que deverão ser lançados. O programa deve exibir uma lista com os resultados dos lançamentos e também a soma dos valores obtidos."
      ]
    },
    {
      "cell_type": "code",
      "execution_count": 6,
      "metadata": {
        "id": "DMlSi-hrzrYS"
      },
      "outputs": [],
      "source": [
        "def main():\n",
        "    # Read input from user\n",
        "    n_lados = int(input(\"Digite o número de lados dos dados: \"))\n",
        "    n_dados = int(input(\"Digite a quantidade de dados a serem lançados: \"))\n",
        "    # Call functions\n",
        "    resultados = multiplos_sorteios(n_dados, n_lados)\n",
        "    soma = sum(resultados)\n",
        "    # Print results\n",
        "    print(resultados)\n",
        "    print(f\"Soma dos resultados: {soma}\")"
      ]
    },
    {
      "cell_type": "markdown",
      "metadata": {
        "id": "w_vMamRst7pg"
      },
      "source": [
        "#**Exercício 02**\n",
        "\n",
        "**(Valor: 2,0 pts)** Elabore um programa modularizado que calcule a soma dos $n$ primeiros quadrados.\n",
        "\n",
        "**a)** Desenvolva a função `soma_quadrados` que recebe um inteiro $n$ (positivo) como um parâmetro e retorna a soma de todos os quadrados até $n^2$.\n",
        "\n",
        "Por exemplo, se $n=5$, a função deve retornar a soma $1^2+2^2+3^2+4^2+5^2$.\n",
        "\n",
        "Execute a célula de teste para verificar o funcionamento da função.\n",
        "\n",
        "*IMPORTANTE:* A função deve, obrigatoriamente, usar recursão no cálculo da soma."
      ]
    },
    {
      "cell_type": "code",
      "execution_count": 7,
      "metadata": {
        "id": "GArN9lgWzTQu"
      },
      "outputs": [],
      "source": [
        "# Função soma_quadrados\n",
        "def soma_quadrados(n):\n",
        "    if n == 1:\n",
        "        return 1\n",
        "    else:\n",
        "        return n**2 + soma_quadrados(n - 1)"
      ]
    },
    {
      "cell_type": "code",
      "execution_count": 8,
      "metadata": {
        "id": "XI28wf8B3M9w"
      },
      "outputs": [
        {
          "name": "stdout",
          "output_type": "stream",
          "text": [
            "55\n",
            "1\n"
          ]
        }
      ],
      "source": [
        "# Testes da função soma_quadrados\n",
        "print(soma_quadrados(5))\n",
        "print(soma_quadrados(1))"
      ]
    },
    {
      "cell_type": "markdown",
      "metadata": {
        "id": "fzn-xtLF3d0V"
      },
      "source": [
        "**b)** Elabore um programa que peça ao usuário a digitação do inteiro $n$ e use a função do item anterior para determinar a soma dos $n$ primeiros quadrados.\n",
        "\n",
        "*IMPORTANTE:* Faça a validação da informação de entrada! $n$ deve ser inteiro e positivo.\n"
      ]
    },
    {
      "cell_type": "code",
      "execution_count": 9,
      "metadata": {
        "id": "TAZYJUBwsrVX"
      },
      "outputs": [
        {
          "name": "stdout",
          "output_type": "stream",
          "text": [
            "A soma dos 2 primeiros quadrados é: 5\n"
          ]
        }
      ],
      "source": [
        "def main():\n",
        "    while True:\n",
        "        try:\n",
        "            n = int(input(\"Digite um número inteiro positivo: \"))\n",
        "            if n > 0:\n",
        "                break\n",
        "            else:\n",
        "                print(\"O número deve ser positivo. Tente novamente.\")\n",
        "        except ValueError:\n",
        "            print(\"Entrada inválida. Por favor, digite um número inteiro.\")\n",
        "    \n",
        "    soma = soma_quadrados(n)\n",
        "    print(f\"A soma dos {n} primeiros quadrados é: {soma}\")\n",
        "\n",
        "if __name__ == \"__main__\":\n",
        "    main()\n"
      ]
    },
    {
      "cell_type": "markdown",
      "metadata": {
        "id": "YnRB-l7U1qX6"
      },
      "source": [
        "#**Exercício 03**\n",
        "\n",
        "**(Valor: 5,0 pts)** Elabore um programa modularizado que implemente uma agenda de contatos.\n",
        "\n",
        "Os contatos estarão armazenados em um dicionário cujas chaves são os nomes dos contatos e os valores são listas que contém o telefone e o perfil do contato no Instagram.\n",
        "\n",
        "Para ajudar no desenvolvimento do programa, execute a célula a seguir para criar um dicionário base."
      ]
    },
    {
      "cell_type": "code",
      "execution_count": 21,
      "metadata": {
        "id": "rbBisLdA0HmN"
      },
      "outputs": [],
      "source": [
        "# Agenda base\n",
        "agenda = {'Gustavo Alves': ['(11) 99685-2345', '@gu_alves'],\n",
        "          'Laura Alves': ['(11) 97428-2001', '@lalinha_alves'],\n",
        "          'Janaina Goulart': ['(21) 92134-0543', '@jango_25'],\n",
        "          'Maria Prado': ['(35) 93821-2289', '@mariaprado_insta'],\n",
        "          'Zenon Galhardo': ['(13) 92121-3997', '@zengalhardo']}"
      ]
    },
    {
      "cell_type": "markdown",
      "metadata": {
        "id": "Y1DI0Er5vTFE"
      },
      "source": [
        "**a)** Elabore uma função `adiciona_contato` que recebe um dicionário de contatos, insere as informações do novo contato e retorna o dicionário de contatos atualizado. Execute a célula de teste para verificar o funcionamento da função."
      ]
    },
    {
      "cell_type": "code",
      "execution_count": 22,
      "metadata": {
        "id": "2Pt-F_pjvi1P"
      },
      "outputs": [],
      "source": [
        "def adiciona_contato(agenda):\n",
        "    nome = input(\"Nome: \")\n",
        "    telefone = input(\"Telefone: \")\n",
        "    instagram = input(\"Instagram: \")\n",
        "    agenda[nome] = [telefone, instagram]\n",
        "    return agenda\n"
      ]
    },
    {
      "cell_type": "code",
      "execution_count": 23,
      "metadata": {
        "id": "a716hXyMv916"
      },
      "outputs": [
        {
          "name": "stdout",
          "output_type": "stream",
          "text": [
            "{'Gustavo Alves': ['(11) 99685-2345', '@gu_alves'], 'Laura Alves': ['(11) 97428-2001', '@lalinha_alves'], 'Janaina Goulart': ['(21) 92134-0543', '@jango_25'], 'Maria Prado': ['(35) 93821-2289', '@mariaprado_insta'], 'Zenon Galhardo': ['(13) 92121-3997', '@zengalhardo'], 'nome': ['', '']}\n"
          ]
        }
      ],
      "source": [
        "# Teste da função adiciona_contato\n",
        "# Informações do novo contato:\n",
        "# Nome: Joaquim Santos\n",
        "# Celular: (13) 94576-1209\n",
        "# Instagram: @jocantos\n",
        "adiciona_contato(agenda)\n",
        "print(agenda)"
      ]
    },
    {
      "cell_type": "markdown",
      "metadata": {
        "id": "0FAFg0otwO9N"
      },
      "source": [
        "**b)** Elabore uma função `apaga_contato` que recebe um dicionário de contatos e o nome do contato a ser apagado. Após a eliminação do contato, retorna o dicionário atualizado. Execute a célula de teste para verificar o funcionamento da função."
      ]
    },
    {
      "cell_type": "code",
      "execution_count": 24,
      "metadata": {
        "id": "icMW2OzEwV20"
      },
      "outputs": [],
      "source": [
        "# Função apaga_contato\n",
        "def apaga_contato(agenda, nome):\n",
        "    if nome in agenda:\n",
        "        del agenda[nome]\n",
        "    return agenda\n"
      ]
    },
    {
      "cell_type": "code",
      "execution_count": 25,
      "metadata": {
        "id": "uaPcJQO2xIDC"
      },
      "outputs": [
        {
          "name": "stdout",
          "output_type": "stream",
          "text": [
            "{'Gustavo Alves': ['(11) 99685-2345', '@gu_alves'], 'Laura Alves': ['(11) 97428-2001', '@lalinha_alves'], 'Janaina Goulart': ['(21) 92134-0543', '@jango_25'], 'Zenon Galhardo': ['(13) 92121-3997', '@zengalhardo'], 'nome': ['', '']}\n"
          ]
        }
      ],
      "source": [
        "# Teste da função apaga_contato\n",
        "apaga_contato(agenda, 'Maria Prado')\n",
        "print(agenda)"
      ]
    },
    {
      "cell_type": "markdown",
      "metadata": {
        "id": "ZeHQuqoaxOoq"
      },
      "source": [
        "**c)** Elabore uma função `encontra_contato` que recebe um dicionário de contatos e o nome do contato a ser localizado.\n",
        "\n",
        "Caso o contato esteja na agenda, a função deve exibir suas informações; caso contrário, deve informar ao usuário que o contato não foi encontrado.\n",
        "\n",
        "Execute a célula de teste para verificar o funcionamento da função."
      ]
    },
    {
      "cell_type": "code",
      "execution_count": 27,
      "metadata": {
        "id": "ZHz0inDKxRo8"
      },
      "outputs": [],
      "source": [
        "# Função encontra_contato\n",
        "def encontra_contato(agenda, nome):\n",
        "    if nome in agenda:\n",
        "        print(f\"Nome: {nome}\")\n",
        "        print(f\"Telefone: {agenda[nome][0]}\")\n",
        "        print(f\"Instagram: {agenda[nome][1]}\")\n",
        "    else:\n",
        "        print(\"Contato não encontrado.\")\n"
      ]
    },
    {
      "cell_type": "code",
      "execution_count": 28,
      "metadata": {
        "id": "FuvpAGT-x55b"
      },
      "outputs": [
        {
          "name": "stdout",
          "output_type": "stream",
          "text": [
            "Nome: Laura Alves\n",
            "Telefone: (11) 97428-2001\n",
            "Instagram: @lalinha_alves\n",
            "Contato não encontrado.\n"
          ]
        }
      ],
      "source": [
        "# Teste da função encontra_contato\n",
        "encontra_contato(agenda, 'Laura Alves')\n",
        "encontra_contato(agenda, 'Cleber Silva')"
      ]
    },
    {
      "cell_type": "markdown",
      "metadata": {
        "id": "uZCfT1NRyFM2"
      },
      "source": [
        "**d)** Elabore uma função `atualiza_contato` que recebe um dicionário de contatos e o nome do contato cujas informações devem ser atualizadas.\n",
        "\n",
        "Caso o contato esteja na agenda, a função deve perguntar ao usuário qual das informações deseja atualizar (1-celular, 2-Instagram). Após a atualização, a função deve retornar o dicionário de contatos atualizado. Caso contrário, deve informar ao usuário que o contato não foi encontrado.\n",
        "\n",
        "Execute a célula de teste para verificar o funcionamento da função."
      ]
    },
    {
      "cell_type": "code",
      "execution_count": 30,
      "metadata": {
        "id": "SuUMxjJzyGma"
      },
      "outputs": [],
      "source": [
        "# Função atualiza_contato\n",
        "def atualiza_contato(agenda, nome):\n",
        "    if nome in agenda:\n",
        "        print(f\"Informações atuais de {nome}:\")\n",
        "        print(f\"1. Telefone: {agenda[nome][0]}\")\n",
        "        print(f\"2. Instagram: {agenda[nome][1]}\")\n",
        "        escolha = input(\"Qual informação deseja atualizar? (1- Telefone, 2- Instagram): \")\n",
        "        if escolha == '1':\n",
        "            novo_telefone = input(\"Novo telefone: \")\n",
        "            agenda[nome][0] = novo_telefone\n",
        "        elif escolha == '2':\n",
        "            novo_instagram = input(\"Novo Instagram: \")\n",
        "            agenda[nome][1] = novo_instagram\n",
        "    else:\n",
        "        print(\"Contato não encontrado.\")\n",
        "    return agenda\n"
      ]
    },
    {
      "cell_type": "code",
      "execution_count": 31,
      "metadata": {
        "id": "zphGoJr3zANS"
      },
      "outputs": [
        {
          "name": "stdout",
          "output_type": "stream",
          "text": [
            "Informações atuais de Laura Alves:\n",
            "1. Telefone: (11) 97428-2001\n",
            "2. Instagram: @lalinha_alves\n",
            "Contato não encontrado.\n",
            "{'Gustavo Alves': ['(11) 99685-2345', '@gu_alves'], 'Laura Alves': ['(11) 11947442519', '@lalinha_alves'], 'Janaina Goulart': ['(21) 92134-0543', '@jango_25'], 'Zenon Galhardo': ['(13) 92121-3997', '@zengalhardo'], 'nome': ['', '']}\n"
          ]
        }
      ],
      "source": [
        "# Teste da função atualiza_contato\n",
        "atualiza_contato(agenda, 'Laura Alves')\n",
        "atualiza_contato(agenda, 'Cleber Silva')\n",
        "print(agenda)"
      ]
    }
  ],
  "metadata": {
    "colab": {
      "provenance": []
    },
    "kernelspec": {
      "display_name": "Python 3",
      "name": "python3"
    },
    "language_info": {
      "codemirror_mode": {
        "name": "ipython",
        "version": 3
      },
      "file_extension": ".py",
      "mimetype": "text/x-python",
      "name": "python",
      "nbconvert_exporter": "python",
      "pygments_lexer": "ipython3",
      "version": "3.12.3"
    }
  },
  "nbformat": 4,
  "nbformat_minor": 0
}
