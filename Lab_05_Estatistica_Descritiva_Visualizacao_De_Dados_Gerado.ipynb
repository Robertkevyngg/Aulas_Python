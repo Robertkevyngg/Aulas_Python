{
 "cells": [
  {
   "cell_type": "markdown",
   "id": "34da3493",
   "metadata": {},
   "source": [
    "# **TTI109 - Estatística**\n",
    "# **Laboratório 05 - Estatística Descritiva 4**\n",
    "# **Visualização de Dados**"
   ]
  },
  {
   "cell_type": "markdown",
   "id": "54226f30",
   "metadata": {},
   "source": [
    "### **Criação dos DataFrames com os dados fornecidos**"
   ]
  },
  {
   "cell_type": "code",
   "execution_count": 4,
   "id": "859944d5",
   "metadata": {},
   "outputs": [
    {
     "name": "stdout",
     "output_type": "stream",
     "text": [
      "Requirement already satisfied: seaborn in c:\\users\\rober\\onedrive\\desktop\\aulas python\\.venv\\lib\\site-packages (0.13.2)\n",
      "Requirement already satisfied: numpy!=1.24.0,>=1.20 in c:\\users\\rober\\onedrive\\desktop\\aulas python\\.venv\\lib\\site-packages (from seaborn) (2.1.0)\n",
      "Requirement already satisfied: pandas>=1.2 in c:\\users\\rober\\onedrive\\desktop\\aulas python\\.venv\\lib\\site-packages (from seaborn) (2.2.2)\n",
      "Requirement already satisfied: matplotlib!=3.6.1,>=3.4 in c:\\users\\rober\\onedrive\\desktop\\aulas python\\.venv\\lib\\site-packages (from seaborn) (3.9.2)\n",
      "Requirement already satisfied: contourpy>=1.0.1 in c:\\users\\rober\\onedrive\\desktop\\aulas python\\.venv\\lib\\site-packages (from matplotlib!=3.6.1,>=3.4->seaborn) (1.3.0)\n",
      "Requirement already satisfied: cycler>=0.10 in c:\\users\\rober\\onedrive\\desktop\\aulas python\\.venv\\lib\\site-packages (from matplotlib!=3.6.1,>=3.4->seaborn) (0.12.1)\n",
      "Requirement already satisfied: fonttools>=4.22.0 in c:\\users\\rober\\onedrive\\desktop\\aulas python\\.venv\\lib\\site-packages (from matplotlib!=3.6.1,>=3.4->seaborn) (4.53.1)\n",
      "Requirement already satisfied: kiwisolver>=1.3.1 in c:\\users\\rober\\onedrive\\desktop\\aulas python\\.venv\\lib\\site-packages (from matplotlib!=3.6.1,>=3.4->seaborn) (1.4.5)\n",
      "Requirement already satisfied: packaging>=20.0 in c:\\users\\rober\\onedrive\\desktop\\aulas python\\.venv\\lib\\site-packages (from matplotlib!=3.6.1,>=3.4->seaborn) (24.1)\n",
      "Requirement already satisfied: pillow>=8 in c:\\users\\rober\\onedrive\\desktop\\aulas python\\.venv\\lib\\site-packages (from matplotlib!=3.6.1,>=3.4->seaborn) (10.4.0)\n",
      "Requirement already satisfied: pyparsing>=2.3.1 in c:\\users\\rober\\onedrive\\desktop\\aulas python\\.venv\\lib\\site-packages (from matplotlib!=3.6.1,>=3.4->seaborn) (3.1.4)\n",
      "Requirement already satisfied: python-dateutil>=2.7 in c:\\users\\rober\\onedrive\\desktop\\aulas python\\.venv\\lib\\site-packages (from matplotlib!=3.6.1,>=3.4->seaborn) (2.9.0.post0)\n",
      "Requirement already satisfied: pytz>=2020.1 in c:\\users\\rober\\onedrive\\desktop\\aulas python\\.venv\\lib\\site-packages (from pandas>=1.2->seaborn) (2024.1)\n",
      "Requirement already satisfied: tzdata>=2022.7 in c:\\users\\rober\\onedrive\\desktop\\aulas python\\.venv\\lib\\site-packages (from pandas>=1.2->seaborn) (2024.1)\n",
      "Requirement already satisfied: six>=1.5 in c:\\users\\rober\\onedrive\\desktop\\aulas python\\.venv\\lib\\site-packages (from python-dateutil>=2.7->matplotlib!=3.6.1,>=3.4->seaborn) (1.16.0)\n",
      "Note: you may need to restart the kernel to use updated packages.\n"
     ]
    },
    {
     "data": {
      "text/html": [
       "<div>\n",
       "<style scoped>\n",
       "    .dataframe tbody tr th:only-of-type {\n",
       "        vertical-align: middle;\n",
       "    }\n",
       "\n",
       "    .dataframe tbody tr th {\n",
       "        vertical-align: top;\n",
       "    }\n",
       "\n",
       "    .dataframe thead th {\n",
       "        text-align: right;\n",
       "    }\n",
       "</style>\n",
       "<table border=\"1\" class=\"dataframe\">\n",
       "  <thead>\n",
       "    <tr style=\"text-align: right;\">\n",
       "      <th></th>\n",
       "      <th>Nome</th>\n",
       "      <th>Idade</th>\n",
       "      <th>Salário</th>\n",
       "    </tr>\n",
       "  </thead>\n",
       "  <tbody>\n",
       "    <tr>\n",
       "      <th>0</th>\n",
       "      <td>Ana</td>\n",
       "      <td>23</td>\n",
       "      <td>50000</td>\n",
       "    </tr>\n",
       "    <tr>\n",
       "      <th>1</th>\n",
       "      <td>Bruno</td>\n",
       "      <td>35</td>\n",
       "      <td>60000</td>\n",
       "    </tr>\n",
       "    <tr>\n",
       "      <th>2</th>\n",
       "      <td>Carlos</td>\n",
       "      <td>45</td>\n",
       "      <td>80000</td>\n",
       "    </tr>\n",
       "    <tr>\n",
       "      <th>3</th>\n",
       "      <td>Daniela</td>\n",
       "      <td>22</td>\n",
       "      <td>45000</td>\n",
       "    </tr>\n",
       "    <tr>\n",
       "      <th>4</th>\n",
       "      <td>Eduardo</td>\n",
       "      <td>28</td>\n",
       "      <td>52000</td>\n",
       "    </tr>\n",
       "  </tbody>\n",
       "</table>\n",
       "</div>"
      ],
      "text/plain": [
       "      Nome  Idade  Salário\n",
       "0      Ana     23    50000\n",
       "1    Bruno     35    60000\n",
       "2   Carlos     45    80000\n",
       "3  Daniela     22    45000\n",
       "4  Eduardo     28    52000"
      ]
     },
     "execution_count": 4,
     "metadata": {},
     "output_type": "execute_result"
    }
   ],
   "source": [
    "\n",
    "import numpy as np\n",
    "import pandas as pd\n",
    "%pip install seaborn\n",
    "import matplotlib.pyplot as plt\n",
    "import seaborn as sns\n",
    "\n",
    "# Configurações para visualização\n",
    "plt.style.use('ggplot')\n",
    "\n",
    "  \n",
    "gorjetas_df = pd.read_csv('arquivo.csv')\n",
    "gorjetas_df.head()\n"
   ]
  },
  {
   "cell_type": "markdown",
   "id": "d68f938e",
   "metadata": {},
   "source": [
    "### **1 - Histograma de Frequência**"
   ]
  },
  {
   "cell_type": "code",
   "execution_count": null,
   "id": "d0ae9e3f",
   "metadata": {},
   "outputs": [],
   "source": [
    "\n",
    "plt.figure(figsize=(10, 5))\n",
    "plt.hist(gorjetas_df['valor_total'], bins=10, edgecolor='black')\n",
    "plt.title('Histograma de Frequência - Valor Total')\n",
    "plt.xlabel('Valor Total')\n",
    "plt.ylabel('Frequência')\n",
    "plt.show()\n"
   ]
  },
  {
   "cell_type": "markdown",
   "id": "71ec9660",
   "metadata": {},
   "source": [
    "### **2 - Histograma de Frequência Relativa**"
   ]
  },
  {
   "cell_type": "code",
   "execution_count": null,
   "id": "3135206a",
   "metadata": {},
   "outputs": [],
   "source": [
    "\n",
    "plt.figure(figsize=(10, 5))\n",
    "plt.hist(gorjetas_df['valor_total'], bins=10, edgecolor='black', density=True)\n",
    "plt.title('Histograma de Frequência Relativa - Valor Total')\n",
    "plt.xlabel('Valor Total')\n",
    "plt.ylabel('Frequência Relativa')\n",
    "plt.show()\n"
   ]
  },
  {
   "cell_type": "markdown",
   "id": "b9acb043",
   "metadata": {},
   "source": [
    "### **3 - Polígono de Frequência - Frequência**"
   ]
  },
  {
   "cell_type": "code",
   "execution_count": null,
   "id": "b8c1225e",
   "metadata": {},
   "outputs": [],
   "source": [
    "\n",
    "plt.figure(figsize=(10, 5))\n",
    "sns.histplot(gorjetas_df['valor_total'], bins=10, kde=True, stat=\"density\", edgecolor='black')\n",
    "plt.title('Polígono de Frequência - Valor Total')\n",
    "plt.xlabel('Valor Total')\n",
    "plt.ylabel('Densidade')\n",
    "plt.show()\n"
   ]
  },
  {
   "cell_type": "markdown",
   "id": "045db651",
   "metadata": {},
   "source": [
    "### **4 - Polígono de Frequência - Frequência Relativa**"
   ]
  },
  {
   "cell_type": "code",
   "execution_count": null,
   "id": "b7f13d2a",
   "metadata": {},
   "outputs": [],
   "source": [
    "\n",
    "plt.figure(figsize=(10, 5))\n",
    "sns.histplot(gorjetas_df['valor_total'], bins=10, kde=True, stat=\"probability\", edgecolor='black')\n",
    "plt.title('Polígono de Frequência Relativa - Valor Total')\n",
    "plt.xlabel('Valor Total')\n",
    "plt.ylabel('Frequência Relativa')\n",
    "plt.show()\n"
   ]
  },
  {
   "cell_type": "markdown",
   "id": "21f9337a",
   "metadata": {},
   "source": [
    "### **5 - Ogiva (Frequência Acumulada)**"
   ]
  },
  {
   "cell_type": "code",
   "execution_count": null,
   "id": "f308f5ac",
   "metadata": {},
   "outputs": [],
   "source": [
    "\n",
    "plt.figure(figsize=(10, 5))\n",
    "sns.ecdfplot(gorjetas_df['valor_total'])\n",
    "plt.title('Ogiva (Frequência Acumulada) - Valor Total')\n",
    "plt.xlabel('Valor Total')\n",
    "plt.ylabel('Frequência Acumulada')\n",
    "plt.show()\n"
   ]
  },
  {
   "cell_type": "markdown",
   "id": "ca25fed1",
   "metadata": {},
   "source": [
    "### **6 - Gráfico de Pareto**"
   ]
  },
  {
   "cell_type": "code",
   "execution_count": null,
   "id": "18de5f5d",
   "metadata": {},
   "outputs": [],
   "source": [
    "\n",
    "pareto_df = gorjetas_df['dia'].value_counts().sort_values(ascending=False)\n",
    "pareto_cum = pareto_df.cumsum() / pareto_df.sum()\n",
    "\n",
    "fig, ax1 = plt.subplots(figsize=(10, 5))\n",
    " \n",
    "ax1.bar(pareto_df.index, pareto_df, color='C0')\n",
    "ax1.set_xlabel('Dia')\n",
    "ax1.set_ylabel('Frequência')\n",
    "\n",
    "ax2 = ax1.twinx()\n",
    "ax2.plot(pareto_df.index, pareto_cum, color='C1', marker='D', ms=7)\n",
    "ax2.set_ylabel('Frequência Acumulada (%)')\n",
    "ax2.yaxis.set_major_formatter(plt.FuncFormatter(lambda x, _: f'{x:.0%}'))\n",
    "\n",
    "plt.title('Gráfico de Pareto - Dias')\n",
    "plt.show()\n"
   ]
  },
  {
   "cell_type": "markdown",
   "id": "0a10541a",
   "metadata": {},
   "source": [
    "### **7 - Gráfico Setorial (Pizza)**"
   ]
  },
  {
   "cell_type": "code",
   "execution_count": null,
   "id": "ad080759",
   "metadata": {},
   "outputs": [],
   "source": [
    "\n",
    "plt.figure(figsize=(8, 8))\n",
    "gorjetas_df['dia'].value_counts().plot.pie(autopct='%1.1f%%')\n",
    "plt.title('Distribuição das Gorjetas por Dia')\n",
    "plt.ylabel('')\n",
    "plt.show()\n"
   ]
  },
  {
   "cell_type": "markdown",
   "id": "3556dbb2",
   "metadata": {},
   "source": [
    "### **8 - Dados Emparelhados - Dispersão**"
   ]
  },
  {
   "cell_type": "code",
   "execution_count": null,
   "id": "1fb98425",
   "metadata": {},
   "outputs": [],
   "source": [
    "\n",
    "plt.figure(figsize=(10, 5))\n",
    "sns.scatterplot(data=gorjetas_df, x='valor_total', y='gorjeta')\n",
    "plt.title('Dispersão - Valor Total vs Gorjeta')\n",
    "plt.xlabel('Valor Total')\n",
    "plt.ylabel('Gorjeta')\n",
    "plt.show()\n"
   ]
  },
  {
   "cell_type": "markdown",
   "id": "3d11f734",
   "metadata": {},
   "source": [
    "### **9 - Dados Emparelhados - Séries Temporais**"
   ]
  },
  {
   "cell_type": "code",
   "execution_count": 6,
   "id": "33812e24",
   "metadata": {},
   "outputs": [
    {
     "name": "stdout",
     "output_type": "stream",
     "text": [
      "Index(['Nome', 'Idade', 'Salário', 'timestamp'], dtype='object')\n",
      "Column 'valor_total' does not exist in the DataFrame.\n"
     ]
    }
   ],
   "source": [
    "import pandas as pd\n",
    "import matplotlib.pyplot as plt\n",
    "\n",
    "# Assuming gorjetas_df is already defined and populated\n",
    "print(gorjetas_df.columns)  # Check the column names\n",
    "\n",
    "# If 'valor_total' is the correct column name and it exists\n",
    "if 'valor_total' in gorjetas_df.columns:\n",
    "    gorjetas_df['timestamp'] = pd.date_range(start='2024-01-01', periods=len(gorjetas_df), freq='D')\n",
    "    plt.figure(figsize=(10, 5))\n",
    "    plt.plot(gorjetas_df['timestamp'], gorjetas_df['valor_total'])\n",
    "    plt.title('Séries Temporais - Valor Total')\n",
    "    plt.xlabel('Data')\n",
    "    plt.ylabel('Valor Total')\n",
    "    plt.xticks(rotation=45)\n",
    "    plt.show()\n",
    "else:\n",
    "    print(\"Column 'valor_total' does not exist in the DataFrame.\")"
   ]
  },
  {
   "cell_type": "markdown",
   "id": "4e12ece4",
   "metadata": {},
   "source": [
    "### **10 - Boxplot**"
   ]
  },
  {
   "cell_type": "code",
   "execution_count": null,
   "id": "d83ac72b",
   "metadata": {},
   "outputs": [],
   "source": [
    "\n",
    "plt.figure(figsize=(10, 5))\n",
    "sns.boxplot(data=gorjetas_df, x='dia', y='gorjeta')\n",
    "plt.title('Boxplot - Gorjetas por Dia')\n",
    "plt.xlabel('Dia')\n",
    "plt.ylabel('Gorjeta')\n",
    "plt.show()\n"
   ]
  }
 ],
 "metadata": {
  "kernelspec": {
   "display_name": ".venv",
   "language": "python",
   "name": "python3"
  },
  "language_info": {
   "codemirror_mode": {
    "name": "ipython",
    "version": 3
   },
   "file_extension": ".py",
   "mimetype": "text/x-python",
   "name": "python",
   "nbconvert_exporter": "python",
   "pygments_lexer": "ipython3",
   "version": "3.12.3"
  }
 },
 "nbformat": 4,
 "nbformat_minor": 5
}
