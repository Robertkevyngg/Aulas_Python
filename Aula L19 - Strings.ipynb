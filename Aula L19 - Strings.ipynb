{
  "cells": [
    {
      "cell_type": "markdown",
      "metadata": {
        "id": "WaIyvXLa38Xo"
      },
      "source": [
        "##**Exercício 01 – Gerando o *user name***\n",
        "\n",
        "Em uma universidade, à cada estudante é atribuído um user name necessário para o acesso à rede discente. Como parte de seu estágio no Departamento de Tecnologia da Informação da universidade, foi-lhe atribuída a tarefa de escrever um programa responsável pela geração dos nomes de usuário para os estudantes. As regras para a construção são vistas a seguir:\n",
        "\n",
        "* Selecione os três primeiros caracteres do nome do estudante (caso o nome possua menos de três caracteres, use o nome completo);\n",
        "\n",
        "* Selecione os três primeiros caracteres do sobrenome do estudante (caso o sobrenome possua menos de três caracteres, use o sobrenome completo);\n",
        "\n",
        "* Selecione os três últimos caracteres do registro acadêmico [RA ou ID] do estudante (caso o registro acadêmico ou ID possua menos de três caracteres, use o registro completo);\n",
        "\n",
        "* O *user name* é criado pela concatenação dos três conjuntos de caracteres (em caixa baixa).\n",
        "\n",
        "Para a criação do programa, modularize seu código:\n",
        "\n",
        "**a)** Crie uma função *gera_login* que recebe como parâmetros o nome, o sobrenome e o registro acadêmico de um estudante e retorna o user name criado.\n",
        "\n",
        "# Função gera_login\n",
        "palavra = 'universidade'\n",
        "print(palavra[0])\n",
        "print(palavra[:6])\n",
        "print(palavra[-1])\n",
        "palavra.upper()\n",
        "palavra.lower()\n",
        "Frase = 'eu quero que o mundo acabe em barranco'\n",
        "print(Frase.lower)\n",
        "print(Frase.split)\n",
        "print('q' in Frase)\n",
        "print(\"9\" in Frase)\n",
        "print(Frase.join)\n",
        "si = 'vai'\n",
        "s2 = 'sao paulo'\n",
        "print(s1+s2)"
      ]
    },
    {
      "cell_type": "code",
      "execution_count": 1,
      "metadata": {
        "id": "T6hD6HtbhvmY"
      },
      "outputs": [],
      "source": [
        "def gera_login(nome, sobrenome, RA):\n",
        "    if len(nome)"
      ]
    },
    {
      "cell_type": "markdown",
      "metadata": {
        "id": "9H4LxlTAhykX"
      },
      "source": []
    },
    {
      "cell_type": "code",
      "execution_count": 10,
      "metadata": {
        "id": "JbFcLo9hh2SX"
      },
      "outputs": [
        {
          "name": "stdout",
          "output_type": "stream",
          "text": [
            "\n",
            "seu login na rede é robgom134\n"
          ]
        }
      ],
      "source": [
        "import string\n",
        "\n",
        "nome, sobrenome = input(\"digite um nome e sobrenome: \").split()\n",
        "RA = input('Digite o registro academico RA: ')\n",
        "pontuacao = string.punctuation\n",
        "minha_table = str.maketrans('', '', pontuacao)\n",
        "RA = RA.translate(minha_table)\n",
        "login = gera_login(nome, sobrenome, RA)\n",
        "print(f'\\nseu login na rede é {login}')"
      ]
    },
    {
      "cell_type": "markdown",
      "metadata": {
        "id": "SMMs32Hih5VO"
      },
      "source": [
        "##**Exercício 02 - Validação de senha**\n",
        "\n",
        "Continuando seu trabalho no Departamento de TI da universidade, sua nova tarefa é a criação de um programa que valide a escolha de senha de cada estudante para o acesso à rede de computadores. Quando da criação da senha, o estudante foi comunicado de que a senha escolhida devia:\n",
        "\n",
        "* Ser formada por, no mínimo, sete caracteres;\n",
        "* Conter ao menos uma letra maiúscula;\n",
        "* Conter ao menos uma letra minúscula;\n",
        "* Conter ao menos um dígito numérico.\n",
        "\n",
        "Para a criação do programa, modularize seu código:\n",
        "\n",
        "**a)** Crie uma função *valida_senha* que recebe como parâmetro a senha do usuário e retorna *True* se a senha é válida ou *False*, caso contrário."
      ]
    },
    {
      "cell_type": "code",
      "execution_count": 1,
      "metadata": {
        "id": "LS3gBig41QyB"
      },
      "outputs": [],
      "source": [
        "def valida_senha(senha):\n",
        "    COM_MIN = 7 \n",
        "    maiuscula_ok = False\n",
        "    minuscula_ok = False \n",
        "    numero_ok = False\n",
        "    if len(senha) >= COM_MIN:\n",
        "        for char in senha:\n",
        "            if char.isupper():\n",
        "                maiuscula_ok = True \n",
        "            if char.islower():\n",
        "                minuscula_ok = True\n",
        "            if char.isdigit():\n",
        "                numero_ok = True\n",
        "        return maiuscula_ok and minuscula_ok and numero_ok\n",
        "    else:\n",
        "        return False\n",
        "def valida_senha(senha):\n",
        "    COMP_MIN = 7\n",
        "    if len(senha) >= COMP_MIN:\n",
        "        maiuscula_ok = any(char.isupper() for char in senha)\n",
        "        minuscula_ok = any(char.islower() for char in senha)\n",
        "        numero_ok = any(char.isdigit() for char in senha)\n",
        "    else:\n",
        "        return False \n",
        "    return maiuscula_ok and minuscula_ok and numero_ok"
      ]
    },
    {
      "cell_type": "code",
      "execution_count": null,
      "metadata": {},
      "outputs": [],
      "source": []
    },
    {
      "cell_type": "markdown",
      "metadata": {
        "id": "kTSNZ6RKibmf"
      },
      "source": [
        "**b)** Elabore um programa que solicite a digitação da senha. Caso se trate de uma senha válida, o programa deve exibir a mensagem “Senha validada”. Caso seja inválida, o processo de entrada deve se repetir até que uma senha válida seja informada."
      ]
    },
    {
      "cell_type": "code",
      "execution_count": 2,
      "metadata": {
        "id": "3oedrWboiYY_"
      },
      "outputs": [
        {
          "name": "stdout",
          "output_type": "stream",
          "text": [
            "erro: senha_invalida!\n",
            "erro: senha_invalida!\n",
            "senha valida\n"
          ]
        }
      ],
      "source": [
        "# Programa\n",
        "senha = input(\"digite a sua senha: \")\n",
        "while not valida_senha(senha):\n",
        "    print(\"erro: senha_invalida!\")\n",
        "    senha = input(\"digite sua senha: \")\n",
        "print('senha valida')    \n",
        "\n"
      ]
    },
    {
      "cell_type": "markdown",
      "metadata": {
        "id": "my2vbFJ8imjo"
      },
      "source": [
        "##**Exercício 03 – Vogais e consoantes**\n",
        "\n",
        "Escreva um programa que peça ao usuário a entrada de uma string (uma frase, por exemplo) e exiba o número de vogais e consoantes presentes nela. Para tanto:\n",
        "\n",
        "**a)** Crie uma função *conta_vogais* que recebe como parâmetro uma *string* e retorna o número de vogais nela contida."
      ]
    },
    {
      "cell_type": "code",
      "execution_count": 11,
      "metadata": {
        "id": "bYt1iwPyilw2"
      },
      "outputs": [
        {
          "name": "stdout",
          "output_type": "stream",
          "text": [
            "10\n"
          ]
        }
      ],
      "source": [
        "# Função conta_vogais\n",
        "def conta_vogais(txt):\n",
        "    txt = txt.lower()\n",
        "    vogais = \"aeiouáã\"\n",
        "    ocorrencias = 0\n",
        "    for letra in txt:\n",
        "        if letra in vogais:\n",
        "            ocorrencias += 1\n",
        "    return ocorrencias\n",
        "frase = \"jaoa gosta de maracuja\"\n",
        "print(conta_vogais(frase))\n"
      ]
    },
    {
      "cell_type": "markdown",
      "metadata": {
        "id": "4K02pSgw_BUA"
      },
      "source": [
        "**b)** Crie uma função *conta_consoantes* que recebe como parâmetro uma *string* e retorna o número de consoantes nela contida."
      ]
    },
    {
      "cell_type": "code",
      "execution_count": 13,
      "metadata": {
        "id": "cT9unCeIjOwY"
      },
      "outputs": [
        {
          "name": "stdout",
          "output_type": "stream",
          "text": [
            "10\n",
            "10\n"
          ]
        }
      ],
      "source": [
        "def conta_consoantes(txt):\n",
        "    txt = txt.lower()\n",
        "    consoantes = \"bcdfghjklmnpqrstvwxyz\"\n",
        "    ocorrencias = 0\n",
        "    for letra in txt:\n",
        "        if letra in consoantes:\n",
        "            ocorrencias += 1\n",
        "    return ocorrencias\n",
        "\n",
        "def conta_consoantes_alt(txt):\n",
        "    txt = txt.lower()\n",
        "    consoantes = \"bcdfghjklmnpqrstvwxyz\"\n",
        "    ocorrencias = [1 for letra in txt if letra in consoantes]\n",
        "    return sum(ocorrencias)\n",
        "\n",
        "frase = \"O rato roeu a roupa do rei de Roma\"\n",
        "print(conta_consoantes(frase))\n",
        "print(conta_consoantes_alt(frase))"
      ]
    },
    {
      "cell_type": "markdown",
      "metadata": {
        "id": "Cq70n8m7_EEo"
      },
      "source": [
        "**c)** Construa o programa que recebe uma *string* do usuário e, usando as funções dos itens anteriores, exibe o número de vogais e consoantes nela presentes."
      ]
    },
    {
      "cell_type": "code",
      "execution_count": 1,
      "metadata": {
        "id": "30jdsVYdjRsW"
      },
      "outputs": [
        {
          "ename": "NameError",
          "evalue": "name 'conta_vogais' is not defined",
          "output_type": "error",
          "traceback": [
            "\u001b[1;31m---------------------------------------------------------------------------\u001b[0m",
            "\u001b[1;31mNameError\u001b[0m                                 Traceback (most recent call last)",
            "Cell \u001b[1;32mIn[1], line 2\u001b[0m\n\u001b[0;32m      1\u001b[0m texto \u001b[38;5;241m=\u001b[39m \u001b[38;5;28minput\u001b[39m(\u001b[38;5;124m\"\u001b[39m\u001b[38;5;124mdigite uma frase: \u001b[39m\u001b[38;5;124m\"\u001b[39m)\n\u001b[1;32m----> 2\u001b[0m num_vogais \u001b[38;5;241m=\u001b[39m conta_vogais(texto)\n\u001b[0;32m      3\u001b[0m num_consoantes \u001b[38;5;241m=\u001b[39m conta_consoantes(texto)\n\u001b[0;32m      4\u001b[0m \u001b[38;5;28mprint\u001b[39m(\u001b[38;5;124mf\u001b[39m\u001b[38;5;124m\"\u001b[39m\u001b[38;5;124ma frase \u001b[39m\u001b[38;5;124m'\u001b[39m\u001b[38;5;132;01m{\u001b[39;00mtexto\u001b[38;5;132;01m}\u001b[39;00m\u001b[38;5;124m'\u001b[39m\u001b[38;5;124m possui:\u001b[39m\u001b[38;5;124m\"\u001b[39m)\n",
            "\u001b[1;31mNameError\u001b[0m: name 'conta_vogais' is not defined"
          ]
        }
      ],
      "source": [
        "texto = input(\"digite uma frase: \")\n",
        "num_vogais = conta_vogais(texto)\n",
        "num_consoantes = conta_consoantes(texto)\n",
        "print(f\"a frase '{texto}' possui:\")\n",
        "print(f\"{num_vogais} vogais\")\n",
        "print(f\"{num_consoantes} consoantes\")\n"
      ]
    },
    {
      "cell_type": "markdown",
      "metadata": {
        "id": "TZW5nhe9jTlx"
      },
      "source": [
        "##**Exercício 04 – Pig Latin (“Latim porco”, em uma tradução livre)**\n",
        "\n",
        "Escreva um programa que solicita uma frase como entrada e a traduza para o “Latim porco”. Em uma de suas versões, a tradução de uma palavra para o “Latim porco” se dá em duas etapas:\n",
        "\n",
        "* Remoção da primeira letra da palavra e inserção dessa ao final;\n",
        "* Concatenar “ay” à palavra.\n",
        "\n",
        "Veja um exemplo:\n",
        "\n",
        "**Frase original:** Eu quero ver o oco (Refrão de “Eu quero ver o oco”, sucesso dos Raimundos (1995)\n",
        "\n",
        "**Frase em \"latim porco\":** ueay ueroqay ervay oay cooay\n",
        "\n",
        "Para a criação do programa, modularize seu código:\n",
        "\n",
        "**a)** Crie uma função *pig_latin* que recebe como parâmetro uma frase e retorna sua tradução para o “latim porco”."
      ]
    },
    {
      "cell_type": "code",
      "execution_count": 5,
      "metadata": {
        "id": "_wqRzUd9kBnB"
      },
      "outputs": [],
      "source": [
        "def pig_latin(txt):\n",
        "    txt = txt.lower().split\n",
        "    traducao = []\n",
        "    for palavra in txt:\n",
        "        traducao.append = (palavra[1:]+ palavra[0:] +\"ay\")\n",
        "    return ''.join(traducao)\n",
        "def pig_latin(txt):\n",
        "    txt = txt.lower().split()\n",
        "    traducao = [palavra[:1]+ palavra[0:]]\n",
        "print(pig_latin(\"eu quero ver o oco\"))"
      ]
    },
    {
      "cell_type": "markdown",
      "metadata": {
        "id": "redFuheZ__v6"
      },
      "source": [
        "for in range"
      ]
    },
    {
      "cell_type": "code",
      "execution_count": 6,
      "metadata": {
        "id": "Zm_zjRKakIKW"
      },
      "outputs": [
        {
          "name": "stdout",
          "output_type": "stream",
          "text": [
            "Tradução para 'latim porco': odinhafay\n"
          ]
        },
        {
          "ename": "",
          "evalue": "",
          "output_type": "error",
          "traceback": [
            "\u001b[1;31mThe Kernel crashed while executing code in the current cell or a previous cell. \n",
            "\u001b[1;31mPlease review the code in the cell(s) to identify a possible cause of the failure. \n",
            "\u001b[1;31mClick <a href='https://aka.ms/vscodeJupyterKernelCrash'>here</a> for more info. \n",
            "\u001b[1;31mView Jupyter <a href='command:jupyter.viewOutput'>log</a> for further details."
          ]
        }
      ],
      "source": [
        "frase = input(\"digite uma frase: \")\n",
        "frase = pig_latin = pig_latin(frase)\n",
        "print(f'frase original:\\n{frase}')\n",
        "print(f'frase em 'latin porco\"!\\n(frase_pig_latin'))"
      ]
    },
    {
      "cell_type": "markdown",
      "metadata": {
        "id": "Nwdo6Moy5MLa"
      },
      "source": [
        "##**Exercício 05 - Tratando datas**\n",
        "\n",
        "Leia uma cadeia de caracteres no formato “DD/MM/AAAA” e copie o dia, mes e ano para 3 variaveis inteiras. Antes disso:\n",
        "\n",
        "**a)** Construa uma função `verifica_barras` que recebe a data fornecida e checa se as barras estão posicionadas corretamente. Em caso de de inconsistência a função deve retornar `False`, caso contrário, `True`."
      ]
    },
    {
      "cell_type": "code",
      "execution_count": null,
      "metadata": {
        "id": "LNh6w8nU6n2h"
      },
      "outputs": [],
      "source": [
        "# Função verifica_barras\n",
        "all('123a'.isdigit())"
      ]
    },
    {
      "cell_type": "markdown",
      "metadata": {
        "id": "sfMH2hce6obA"
      },
      "source": [
        "**b)** Construa a função `verifica_campos` que recebe a data fornecida, separa os campos DD, MM e AAAA e verifica se são numéricos. Em caso afirmativo, a função deve retornar os campos no formato inteiro; caso contrário, deve retornar `False`."
      ]
    },
    {
      "cell_type": "code",
      "execution_count": null,
      "metadata": {
        "id": "K9vxoS8h72Cw"
      },
      "outputs": [],
      "source": [
        "# Função verifica_campos\n"
      ]
    },
    {
      "cell_type": "markdown",
      "metadata": {
        "id": "7ozDAJJQ72bQ"
      },
      "source": [
        "**c)** Elabore um programa que peça ao usuário que digite uma data no formato DD/MM/AAAA e, usando as funções dos itens anteriores, armazene, se possível, os campos DD, MM e AAAA em variáveis inteiras. Se houver algum tipo de incoerência na entrada fornecida, o programa deve pedir nova digitação."
      ]
    },
    {
      "cell_type": "code",
      "execution_count": null,
      "metadata": {
        "id": "dfEJduA28ScJ"
      },
      "outputs": [],
      "source": [
        "# Programa\n"
      ]
    },
    {
      "cell_type": "markdown",
      "metadata": {
        "id": "kBTRt8fl8S0x"
      },
      "source": [
        "##**Desafio - Tratameto de strings**##\n",
        "\n",
        "Elabore um programa modular que encontre o conjunto de 5 dígitos consecutivos na sequência abaixo que gere o maior produto."
      ]
    },
    {
      "cell_type": "code",
      "execution_count": null,
      "metadata": {
        "id": "sWauEdy38yzB"
      },
      "outputs": [],
      "source": [
        "# String para análise\n",
        "sequencia = '''\n",
        "73167176531330624919225119674426574742355349194934\n",
        "96983520312774506326239578318016984801869478851843\n",
        "85861560789112949495459501737958331952853208805511\n",
        "12540698747158523863050715693290963295227443043557\n",
        "66896648950445244523161731856403098711121722383113\n",
        "62229893423380308135336276614282806444486645238749\n",
        "30358907296290491560440772390713810515859307960866\n",
        "70172427121883998797908792274921901699720888093776\n",
        "65727333001053367881220235421809751254540594752243\n",
        "52584907711670556013604839586446706324415722155397\n",
        "53697817977846174064955149290862569321978468622482\n",
        "83972241375657056057490261407972968652414535100474\n",
        "82166370484403199890008895243450658541227588666881\n",
        "16427171479924442928230863465674813919123162824586\n",
        "17866458359124566529476545682848912883142607690042\n",
        "24219022671055626321111109370544217506941658960408\n",
        "07198403850962455444362981230987879927244284909188\n",
        "84580156166097919133875499200524063689912560717606\n",
        "05886116467109405077541002256983155200055935729725\n",
        "71636269561882670428252483600823257530420752963450\n",
        "'''"
      ]
    },
    {
      "cell_type": "code",
      "execution_count": null,
      "metadata": {
        "id": "-5akT-jN-dr4"
      },
      "outputs": [],
      "source": [
        "bora pode da gege "
      ]
    }
  ],
  "metadata": {
    "colab": {
      "provenance": []
    },
    "kernelspec": {
      "display_name": "Python 3",
      "language": "python",
      "name": "python3"
    },
    "language_info": {
      "codemirror_mode": {
        "name": "ipython",
        "version": 3
      },
      "file_extension": ".py",
      "mimetype": "text/x-python",
      "name": "python",
      "nbconvert_exporter": "python",
      "pygments_lexer": "ipython3",
      "version": "3.11.7"
    },
    "vscode": {
      "interpreter": {
        "hash": "c261aea317cc0286b3b3261fbba9abdec21eaa57589985bb7a274bf54d6cc0a7"
      }
    }
  },
  "nbformat": 4,
  "nbformat_minor": 0
}
